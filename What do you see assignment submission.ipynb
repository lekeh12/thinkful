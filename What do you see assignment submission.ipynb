{
 "cells": [
  {
   "cell_type": "code",
   "execution_count": 1,
   "metadata": {
    "collapsed": true
   },
   "outputs": [],
   "source": [
    "import pandas as pd\n",
    "import numpy as np\n",
    "import matplotlib.pyplot as plt\n",
    "%matplotlib inline"
   ]
  },
  {
   "cell_type": "code",
   "execution_count": 2,
   "metadata": {
    "collapsed": true
   },
   "outputs": [],
   "source": [
    "df = pd.read_csv('penalty_data_convmin.csv', index_col=0, parse_dates=True)"
   ]
  },
  {
   "cell_type": "code",
   "execution_count": 3,
   "metadata": {},
   "outputs": [
    {
     "data": {
      "text/html": [
       "<div>\n",
       "<style>\n",
       "    .dataframe thead tr:only-child th {\n",
       "        text-align: right;\n",
       "    }\n",
       "\n",
       "    .dataframe thead th {\n",
       "        text-align: left;\n",
       "    }\n",
       "\n",
       "    .dataframe tbody tr th {\n",
       "        vertical-align: top;\n",
       "    }\n",
       "</style>\n",
       "<table border=\"1\" class=\"dataframe\">\n",
       "  <thead>\n",
       "    <tr style=\"text-align: right;\">\n",
       "      <th></th>\n",
       "      <th>Match Week</th>\n",
       "      <th>Date</th>\n",
       "      <th>Player</th>\n",
       "      <th>Team</th>\n",
       "      <th>Match</th>\n",
       "      <th>Time of Penalty Awarded</th>\n",
       "      <th>Scored</th>\n",
       "      <th>Final Results</th>\n",
       "      <th>Foot</th>\n",
       "      <th>Kick_Direction</th>\n",
       "      <th>Keeper_Direction</th>\n",
       "      <th>Saved</th>\n",
       "    </tr>\n",
       "    <tr>\n",
       "      <th>No.</th>\n",
       "      <th></th>\n",
       "      <th></th>\n",
       "      <th></th>\n",
       "      <th></th>\n",
       "      <th></th>\n",
       "      <th></th>\n",
       "      <th></th>\n",
       "      <th></th>\n",
       "      <th></th>\n",
       "      <th></th>\n",
       "      <th></th>\n",
       "      <th></th>\n",
       "    </tr>\n",
       "  </thead>\n",
       "  <tbody>\n",
       "    <tr>\n",
       "      <th>1</th>\n",
       "      <td>1</td>\n",
       "      <td>13-Aug-16</td>\n",
       "      <td>Riyad Mahrez</td>\n",
       "      <td>Leicester</td>\n",
       "      <td>Hull vs Leicester</td>\n",
       "      <td>47</td>\n",
       "      <td>Scored</td>\n",
       "      <td>42737</td>\n",
       "      <td>L</td>\n",
       "      <td>C</td>\n",
       "      <td>R</td>\n",
       "      <td>NaN</td>\n",
       "    </tr>\n",
       "    <tr>\n",
       "      <th>2</th>\n",
       "      <td>1</td>\n",
       "      <td>13-Aug-16</td>\n",
       "      <td>Sergio Agüero</td>\n",
       "      <td>Man City</td>\n",
       "      <td>Man City vs Sunderland</td>\n",
       "      <td>4</td>\n",
       "      <td>Scored</td>\n",
       "      <td>42737</td>\n",
       "      <td>R</td>\n",
       "      <td>L</td>\n",
       "      <td>L</td>\n",
       "      <td>NaN</td>\n",
       "    </tr>\n",
       "    <tr>\n",
       "      <th>3</th>\n",
       "      <td>1</td>\n",
       "      <td>14-Aug-16</td>\n",
       "      <td>Theo Walcott</td>\n",
       "      <td>Arsenal</td>\n",
       "      <td>Arsenal vs Liverpool</td>\n",
       "      <td>30</td>\n",
       "      <td>Missed</td>\n",
       "      <td>42828</td>\n",
       "      <td>R</td>\n",
       "      <td>L</td>\n",
       "      <td>L</td>\n",
       "      <td>1.0</td>\n",
       "    </tr>\n",
       "    <tr>\n",
       "      <th>4</th>\n",
       "      <td>1</td>\n",
       "      <td>15-Aug-16</td>\n",
       "      <td>Eden Hazard</td>\n",
       "      <td>Chelsea</td>\n",
       "      <td>Chelsea vs West Ham</td>\n",
       "      <td>47</td>\n",
       "      <td>Scored</td>\n",
       "      <td>42737</td>\n",
       "      <td>R</td>\n",
       "      <td>C</td>\n",
       "      <td>L</td>\n",
       "      <td>NaN</td>\n",
       "    </tr>\n",
       "    <tr>\n",
       "      <th>5</th>\n",
       "      <td>2</td>\n",
       "      <td>19-Aug-16</td>\n",
       "      <td>Zlatan Ibrahimovic</td>\n",
       "      <td>Man United</td>\n",
       "      <td>Man United vs Southampton</td>\n",
       "      <td>52</td>\n",
       "      <td>Scored</td>\n",
       "      <td>2-0</td>\n",
       "      <td>R</td>\n",
       "      <td>L</td>\n",
       "      <td>R</td>\n",
       "      <td>NaN</td>\n",
       "    </tr>\n",
       "  </tbody>\n",
       "</table>\n",
       "</div>"
      ],
      "text/plain": [
       "     Match Week       Date              Player        Team  \\\n",
       "No.                                                          \n",
       "1             1  13-Aug-16        Riyad Mahrez   Leicester   \n",
       "2             1  13-Aug-16       Sergio Agüero    Man City   \n",
       "3             1  14-Aug-16        Theo Walcott     Arsenal   \n",
       "4             1  15-Aug-16         Eden Hazard     Chelsea   \n",
       "5             2  19-Aug-16  Zlatan Ibrahimovic  Man United   \n",
       "\n",
       "                         Match  Time of Penalty Awarded  Scored Final Results  \\\n",
       "No.                                                                             \n",
       "1            Hull vs Leicester                       47  Scored         42737   \n",
       "2       Man City vs Sunderland                        4  Scored         42737   \n",
       "3         Arsenal vs Liverpool                       30  Missed         42828   \n",
       "4          Chelsea vs West Ham                       47  Scored         42737   \n",
       "5    Man United vs Southampton                       52  Scored           2-0   \n",
       "\n",
       "    Foot Kick_Direction Keeper_Direction  Saved  \n",
       "No.                                              \n",
       "1      L              C                R    NaN  \n",
       "2      R              L                L    NaN  \n",
       "3      R              L                L    1.0  \n",
       "4      R              C                L    NaN  \n",
       "5      R              L                R    NaN  "
      ]
     },
     "execution_count": 3,
     "metadata": {},
     "output_type": "execute_result"
    }
   ],
   "source": [
    "df.head()"
   ]
  },
  {
   "cell_type": "code",
   "execution_count": 5,
   "metadata": {},
   "outputs": [],
   "source": [
    "time_pen = df['Time of Penalty Awarded']\n",
    "match_week = df['Match Week']"
   ]
  },
  {
   "cell_type": "code",
   "execution_count": 6,
   "metadata": {},
   "outputs": [
    {
     "data": {
      "image/png": "[encoded data removed]",
      "text/plain": [
       "<matplotlib.figure.Figure at 0x114660a20>"
      ]
     },
     "metadata": {},
     "output_type": "display_data"
    }
   ],
   "source": [
    "plt.figure(figsize=(10, 5))\n",
    "\n",
    "plt.subplot(1, 2, 1)\n",
    "plt.hist(time_pen, bins=10)\n",
    "plt.title('Time of Penalty Kick in Match')\n",
    "plt.xlabel('Minutes into Match')\n",
    "\n",
    "plt.subplot(1, 2, 2)\n",
    "plt.boxplot(time_pen)\n",
    "plt.title('Time of Penalty Kick in Match')\n",
    "plt.show()\n",
    "\n",
    "#This shows what time penalty kicks occured during the 2016/17 Premier League season\n",
    "#The penalties are distributed around the 55 min skewed left so more penalties are called later in second half"
   ]
  },
  {
   "cell_type": "code",
   "execution_count": 10,
   "metadata": {},
   "outputs": [
    {
     "data": {
      "image/png": "[encoded data removed]",
      "text/plain": [
       "<matplotlib.figure.Figure at 0x11b064a90>"
      ]
     },
     "metadata": {},
     "output_type": "display_data"
    }
   ],
   "source": [
    "plt.scatter(match_week, time_pen)\n",
    "plt.ylabel('Time of Penalty')\n",
    "plt.xlabel('Match Week')\n",
    "plt.title('Time of Penalty and Match Week')\n",
    "plt.show()\n",
    "#There is no clear correlation between the time of penalty and match week\n",
    "#Could be interesting to see who the referees were to see if any impact on when \n",
    "#or if penalties are awarded"
   ]
  },
  {
   "cell_type": "code",
   "execution_count": 12,
   "metadata": {},
   "outputs": [
    {
     "data": {
      "text/plain": [
       "Text(0,0.5,'Number of Penalties')"
      ]
     },
     "execution_count": 12,
     "metadata": {},
     "output_type": "execute_result"
    },
    {
     "data": {
      "image/png": "[encoded data removed]",
      "text/plain": [
       "<matplotlib.figure.Figure at 0x11b3b9630>"
      ]
     },
     "metadata": {},
     "output_type": "display_data"
    }
   ],
   "source": [
    "y = (4, 3, 6, 2, 5, 3, 2, 6, 0, 2, 4, 5, 4, 3, 4, 1, 3, 5, 1, 4, 2, 3, 3, 2, 1, 3, 3, 2, 3, 1, 2, 1, 1, 1, 4, 1, 5, 1)\n",
    "n = len(y)\n",
    "x = range(n)\n",
    "width = 1/1.5\n",
    "\n",
    "plt.bar(x, y, width)\n",
    "\n",
    "plt.title('Penalties Per Match Week')\n",
    "plt.xlabel('Match Week')\n",
    "plt.ylabel('Number of Penalties')\n",
    "\n",
    "#This shows the number of penalities awarded per match week.  Some weeks zero were awarded and some up to 6 penalties.\n",
    "#I thought maybe more penalties would be awarded towards the end of the season because players might be more aggressive to finish out the season which could result in more penalties.\n",
    "#I didn't find that to be the cawse.  There might be other factors like officials or locations that could contribute to an increase in penalties."
   ]
  },
  {
   "cell_type": "code",
   "execution_count": 13,
   "metadata": {},
   "outputs": [
    {
     "data": {
      "image/png": "[encoded data removed]",
      "text/plain": [
       "<matplotlib.figure.Figure at 0x11b00bbe0>"
      ]
     },
     "metadata": {},
     "output_type": "display_data"
    }
   ],
   "source": [
    "which_way_keeper = pd.value_counts(df['Keeper_Direction']).plot.bar(title='Direction of the Keeper')"
   ]
  },
  {
   "cell_type": "code",
   "execution_count": 14,
   "metadata": {},
   "outputs": [
    {
     "data": {
      "image/png": "[encoded data removed]",
      "text/plain": [
       "<matplotlib.figure.Figure at 0x11b4727f0>"
      ]
     },
     "metadata": {},
     "output_type": "display_data"
    }
   ],
   "source": [
    "which_way_striker = pd.value_counts(df['Kick_Direction']).plot.bar(title='Direction of the Kick by Striker')\n",
    "\n",
    "#The keeper dives right more than left and rarely stays in the center.  The kicker shoots left more than right and last of all to the center. \n",
    "#Would be interesting to dig into which are more successful, kicking right or left. \n",
    "#Also good to see if the same players choose the same direction each time.\n",
    "#Looking at the success rates to see if there are any patterns could help strikers or keepers choose which way to go"
   ]
  },
  {
   "cell_type": "code",
   "execution_count": null,
   "metadata": {
    "collapsed": true
   },
   "outputs": [],
   "source": []
  }
 ],
 "metadata": {
  "kernelspec": {
   "display_name": "Python 3",
   "language": "python",
   "name": "python3"
  },
  "language_info": {
   "codemirror_mode": {
    "name": "ipython",
    "version": 3
   },
   "file_extension": ".py",
   "mimetype": "text/x-python",
   "name": "python",
   "nbconvert_exporter": "python",
   "pygments_lexer": "ipython3",
   "version": "3.6.3"
  }
 },
 "nbformat": 4,
 "nbformat_minor": 2
}
