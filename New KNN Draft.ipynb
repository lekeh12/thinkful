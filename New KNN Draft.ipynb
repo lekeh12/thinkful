{
 "cells": [
  {
   "cell_type": "code",
   "execution_count": 103,
   "metadata": {
    "collapsed": true
   },
   "outputs": [],
   "source": [
    "#load packages\n",
    "import math\n",
    "import random\n",
    "import numpy as np\n",
    "from numpy.random import permutation\n",
    "import pandas as pd \n",
    "import matplotlib.pyplot as plt\n",
    "import matplotlib as mlab\n",
    "%matplotlib inline\n",
    "import scipy.stats as sp\n",
    "import seaborn as sns\n",
    "from scipy.stats import ttest_ind\n",
    "from sklearn.neighbors import KNeighborsRegressor\n",
    "import pylab as pl"
   ]
  },
  {
   "cell_type": "code",
   "execution_count": 104,
   "metadata": {
    "collapsed": true
   },
   "outputs": [],
   "source": [
    "#import datasets\n",
    "df_ws = pd.read_csv('all_players_data.csv', index_col=False, header=0)\n",
    "df_tm = pd.read_csv('player_data_Sept2017.csv', index_col=0, parse_dates=True)"
   ]
  },
  {
   "cell_type": "code",
   "execution_count": 105,
   "metadata": {},
   "outputs": [
    {
     "data": {
      "text/plain": [
       "['Player Name',\n",
       " 'Goals/90min',\n",
       " 'Assists/90min',\n",
       " 'Yel/90min',\n",
       " 'Red/90min',\n",
       " 'SpG',\n",
       " 'PS%',\n",
       " 'Rating',\n",
       " 'Tackles',\n",
       " 'Inter',\n",
       " 'Fouls (def)',\n",
       " 'Offsides',\n",
       " 'Clear',\n",
       " 'DrB (def)',\n",
       " 'Blocks',\n",
       " 'DrB (off)',\n",
       " 'Fouled (off)',\n",
       " 'Off (off)',\n",
       " 'Disp (off)',\n",
       " 'KeyP',\n",
       " 'AvgP',\n",
       " 'Crosses',\n",
       " 'LongB',\n",
       " 'ThrB',\n",
       " 'OutOfBox',\n",
       " 'SixYardBox',\n",
       " 'PenaltyArea']"
      ]
     },
     "execution_count": 105,
     "metadata": {},
     "output_type": "execute_result"
    }
   ],
   "source": [
    "list(df_ws)"
   ]
  },
  {
   "cell_type": "code",
   "execution_count": 106,
   "metadata": {
    "collapsed": true
   },
   "outputs": [],
   "source": [
    "df_ws.rename(columns={'Goals/90min': 'GpG'}, inplace=True)\n",
    "df_ws.rename(columns={'Assists/90min': 'AssistspG'}, inplace=True)\n",
    "df_ws.rename(columns={'Yel/90min': 'YelCardpG'}, inplace=True)\n",
    "df_ws.rename(columns={'Red/90min': 'RedCardpG'}, inplace=True)\n",
    "df_ws.rename(columns={'Fouls (def)': 'Foulsdef'}, inplace=True)\n",
    "df_ws.rename(columns={'DrB (def)': 'DrBdef'}, inplace=True)\n",
    "df_ws.rename(columns={'Fouled (off)': 'Fouledoff'}, inplace=True)\n",
    "df_ws.rename(columns={'DrB (off)': 'DrBoff'}, inplace=True)\n",
    "df_ws.rename(columns={'Off (off)': 'Offoff'}, inplace=True)\n",
    "df_ws.rename(columns={'Disp (off)': 'Dispoff'}, inplace=True)\n",
    "\n"
   ]
  },
  {
   "cell_type": "code",
   "execution_count": 107,
   "metadata": {
    "collapsed": true
   },
   "outputs": [],
   "source": [
    "df_ws = df_ws[df_ws.GpG != 'Undefined']\n",
    "df_ws = df_ws[df_ws.Tackles != 'Undefined']\n",
    "df_ws = df_ws[df_ws.DrBoff != 'Undefined']\n",
    "df_ws = df_ws[df_ws.OutOfBox != 'Undefined']"
   ]
  },
  {
   "cell_type": "code",
   "execution_count": 108,
   "metadata": {},
   "outputs": [
    {
     "data": {
      "text/html": [
       "<div>\n",
       "<style>\n",
       "    .dataframe thead tr:only-child th {\n",
       "        text-align: right;\n",
       "    }\n",
       "\n",
       "    .dataframe thead th {\n",
       "        text-align: left;\n",
       "    }\n",
       "\n",
       "    .dataframe tbody tr th {\n",
       "        vertical-align: top;\n",
       "    }\n",
       "</style>\n",
       "<table border=\"1\" class=\"dataframe\">\n",
       "  <thead>\n",
       "    <tr style=\"text-align: right;\">\n",
       "      <th></th>\n",
       "      <th>Player Name</th>\n",
       "      <th>GpG</th>\n",
       "      <th>AssistspG</th>\n",
       "      <th>YelCardpG</th>\n",
       "      <th>RedCardpG</th>\n",
       "      <th>SpG</th>\n",
       "      <th>PS%</th>\n",
       "      <th>Rating</th>\n",
       "      <th>Tackles</th>\n",
       "      <th>Inter</th>\n",
       "      <th>...</th>\n",
       "      <th>Offoff</th>\n",
       "      <th>Dispoff</th>\n",
       "      <th>KeyP</th>\n",
       "      <th>AvgP</th>\n",
       "      <th>Crosses</th>\n",
       "      <th>LongB</th>\n",
       "      <th>ThrB</th>\n",
       "      <th>OutOfBox</th>\n",
       "      <th>SixYardBox</th>\n",
       "      <th>PenaltyArea</th>\n",
       "    </tr>\n",
       "  </thead>\n",
       "  <tbody>\n",
       "    <tr>\n",
       "      <th>0</th>\n",
       "      <td>Cesar Azpilicueta</td>\n",
       "      <td>0.13</td>\n",
       "      <td>0.34</td>\n",
       "      <td>0.07</td>\n",
       "      <td>0.0</td>\n",
       "      <td>0.3</td>\n",
       "      <td>84.4</td>\n",
       "      <td>7.28</td>\n",
       "      <td>2.4</td>\n",
       "      <td>1.5</td>\n",
       "      <td>...</td>\n",
       "      <td>0.1</td>\n",
       "      <td>0.3</td>\n",
       "      <td>0.5</td>\n",
       "      <td>60.4</td>\n",
       "      <td>0.3</td>\n",
       "      <td>2.5</td>\n",
       "      <td>0.1</td>\n",
       "      <td>0.1</td>\n",
       "      <td>0.1</td>\n",
       "      <td>0.1</td>\n",
       "    </tr>\n",
       "    <tr>\n",
       "      <th>1</th>\n",
       "      <td>N Golo Kante</td>\n",
       "      <td>0.1</td>\n",
       "      <td>0.0</td>\n",
       "      <td>0.1</td>\n",
       "      <td>0.0</td>\n",
       "      <td>0.7</td>\n",
       "      <td>86</td>\n",
       "      <td>7.34</td>\n",
       "      <td>3.4</td>\n",
       "      <td>2.1</td>\n",
       "      <td>...</td>\n",
       "      <td>0.1</td>\n",
       "      <td>1</td>\n",
       "      <td>1.2</td>\n",
       "      <td>54.1</td>\n",
       "      <td>0.2</td>\n",
       "      <td>2</td>\n",
       "      <td>0</td>\n",
       "      <td>0.5</td>\n",
       "      <td>0</td>\n",
       "      <td>0.2</td>\n",
       "    </tr>\n",
       "    <tr>\n",
       "      <th>2</th>\n",
       "      <td>Tiemoue Bakayoko</td>\n",
       "      <td>0.17</td>\n",
       "      <td>0.25</td>\n",
       "      <td>0.25</td>\n",
       "      <td>0.0</td>\n",
       "      <td>1.3</td>\n",
       "      <td>83.5</td>\n",
       "      <td>7.21</td>\n",
       "      <td>2.9</td>\n",
       "      <td>1.4</td>\n",
       "      <td>...</td>\n",
       "      <td>0.1</td>\n",
       "      <td>1.5</td>\n",
       "      <td>0.6</td>\n",
       "      <td>38.3</td>\n",
       "      <td>0</td>\n",
       "      <td>1.6</td>\n",
       "      <td>0</td>\n",
       "      <td>0.6</td>\n",
       "      <td>0</td>\n",
       "      <td>0.6</td>\n",
       "    </tr>\n",
       "    <tr>\n",
       "      <th>3</th>\n",
       "      <td>Alvaro Morata</td>\n",
       "      <td>1.21</td>\n",
       "      <td>0.28</td>\n",
       "      <td>0.19</td>\n",
       "      <td>0.0</td>\n",
       "      <td>3.1</td>\n",
       "      <td>71.1</td>\n",
       "      <td>7.03</td>\n",
       "      <td>0.2</td>\n",
       "      <td>0.1</td>\n",
       "      <td>...</td>\n",
       "      <td>1.2</td>\n",
       "      <td>2.5</td>\n",
       "      <td>0.9</td>\n",
       "      <td>17.8</td>\n",
       "      <td>0</td>\n",
       "      <td>0.7</td>\n",
       "      <td>0</td>\n",
       "      <td>0.7</td>\n",
       "      <td>0.4</td>\n",
       "      <td>2</td>\n",
       "    </tr>\n",
       "    <tr>\n",
       "      <th>4</th>\n",
       "      <td>Eden Hazard</td>\n",
       "      <td>1.07</td>\n",
       "      <td>0.24</td>\n",
       "      <td>0.0</td>\n",
       "      <td>0.0</td>\n",
       "      <td>1.7</td>\n",
       "      <td>83.3</td>\n",
       "      <td>7.45</td>\n",
       "      <td>0.2</td>\n",
       "      <td>0</td>\n",
       "      <td>...</td>\n",
       "      <td>0.5</td>\n",
       "      <td>1.5</td>\n",
       "      <td>2.8</td>\n",
       "      <td>33.9</td>\n",
       "      <td>0.3</td>\n",
       "      <td>1.9</td>\n",
       "      <td>0</td>\n",
       "      <td>0.6</td>\n",
       "      <td>0</td>\n",
       "      <td>1.1</td>\n",
       "    </tr>\n",
       "  </tbody>\n",
       "</table>\n",
       "<p>5 rows × 27 columns</p>\n",
       "</div>"
      ],
      "text/plain": [
       "         Player Name   GpG AssistspG YelCardpG RedCardpG  SpG   PS% Rating  \\\n",
       "0  Cesar Azpilicueta  0.13      0.34      0.07       0.0  0.3  84.4   7.28   \n",
       "1       N Golo Kante   0.1       0.0       0.1       0.0  0.7    86   7.34   \n",
       "2   Tiemoue Bakayoko  0.17      0.25      0.25       0.0  1.3  83.5   7.21   \n",
       "3      Alvaro Morata  1.21      0.28      0.19       0.0  3.1  71.1   7.03   \n",
       "4        Eden Hazard  1.07      0.24       0.0       0.0  1.7  83.3   7.45   \n",
       "\n",
       "  Tackles Inter     ...     Offoff Dispoff KeyP  AvgP Crosses LongB ThrB  \\\n",
       "0     2.4   1.5     ...        0.1     0.3  0.5  60.4     0.3   2.5  0.1   \n",
       "1     3.4   2.1     ...        0.1       1  1.2  54.1     0.2     2    0   \n",
       "2     2.9   1.4     ...        0.1     1.5  0.6  38.3       0   1.6    0   \n",
       "3     0.2   0.1     ...        1.2     2.5  0.9  17.8       0   0.7    0   \n",
       "4     0.2     0     ...        0.5     1.5  2.8  33.9     0.3   1.9    0   \n",
       "\n",
       "  OutOfBox SixYardBox PenaltyArea  \n",
       "0      0.1        0.1         0.1  \n",
       "1      0.5          0         0.2  \n",
       "2      0.6          0         0.6  \n",
       "3      0.7        0.4           2  \n",
       "4      0.6          0         1.1  \n",
       "\n",
       "[5 rows x 27 columns]"
      ]
     },
     "execution_count": 108,
     "metadata": {},
     "output_type": "execute_result"
    }
   ],
   "source": [
    "df_ws.head()"
   ]
  },
  {
   "cell_type": "code",
   "execution_count": 109,
   "metadata": {},
   "outputs": [
    {
     "data": {
      "text/html": [
       "<div>\n",
       "<style>\n",
       "    .dataframe thead tr:only-child th {\n",
       "        text-align: right;\n",
       "    }\n",
       "\n",
       "    .dataframe thead th {\n",
       "        text-align: left;\n",
       "    }\n",
       "\n",
       "    .dataframe tbody tr th {\n",
       "        vertical-align: top;\n",
       "    }\n",
       "</style>\n",
       "<table border=\"1\" class=\"dataframe\">\n",
       "  <thead>\n",
       "    <tr style=\"text-align: right;\">\n",
       "      <th></th>\n",
       "      <th>Player Name</th>\n",
       "      <th>GpG</th>\n",
       "      <th>AssistspG</th>\n",
       "      <th>YelCardpG</th>\n",
       "      <th>RedCardpG</th>\n",
       "      <th>SpG</th>\n",
       "      <th>PS%</th>\n",
       "      <th>Rating</th>\n",
       "      <th>Tackles</th>\n",
       "      <th>Inter</th>\n",
       "      <th>...</th>\n",
       "      <th>Offoff</th>\n",
       "      <th>Dispoff</th>\n",
       "      <th>KeyP</th>\n",
       "      <th>AvgP</th>\n",
       "      <th>Crosses</th>\n",
       "      <th>LongB</th>\n",
       "      <th>ThrB</th>\n",
       "      <th>OutOfBox</th>\n",
       "      <th>SixYardBox</th>\n",
       "      <th>PenaltyArea</th>\n",
       "    </tr>\n",
       "  </thead>\n",
       "  <tbody>\n",
       "    <tr>\n",
       "      <th>count</th>\n",
       "      <td>6911</td>\n",
       "      <td>6911</td>\n",
       "      <td>6911</td>\n",
       "      <td>6911</td>\n",
       "      <td>6911</td>\n",
       "      <td>6911</td>\n",
       "      <td>6911</td>\n",
       "      <td>6911</td>\n",
       "      <td>6911</td>\n",
       "      <td>6911</td>\n",
       "      <td>...</td>\n",
       "      <td>6911</td>\n",
       "      <td>6911</td>\n",
       "      <td>6911</td>\n",
       "      <td>6911</td>\n",
       "      <td>6911</td>\n",
       "      <td>6911</td>\n",
       "      <td>6911</td>\n",
       "      <td>6911</td>\n",
       "      <td>6911</td>\n",
       "      <td>6911</td>\n",
       "    </tr>\n",
       "    <tr>\n",
       "      <th>unique</th>\n",
       "      <td>6911</td>\n",
       "      <td>258</td>\n",
       "      <td>118</td>\n",
       "      <td>208</td>\n",
       "      <td>77</td>\n",
       "      <td>55</td>\n",
       "      <td>545</td>\n",
       "      <td>247</td>\n",
       "      <td>54</td>\n",
       "      <td>51</td>\n",
       "      <td>...</td>\n",
       "      <td>22</td>\n",
       "      <td>44</td>\n",
       "      <td>40</td>\n",
       "      <td>698</td>\n",
       "      <td>34</td>\n",
       "      <td>126</td>\n",
       "      <td>11</td>\n",
       "      <td>32</td>\n",
       "      <td>10</td>\n",
       "      <td>37</td>\n",
       "    </tr>\n",
       "    <tr>\n",
       "      <th>top</th>\n",
       "      <td>Siem de Jong</td>\n",
       "      <td>0.0</td>\n",
       "      <td>0.0</td>\n",
       "      <td>0.0</td>\n",
       "      <td>0.0</td>\n",
       "      <td>0</td>\n",
       "      <td>100</td>\n",
       "      <td>6.74</td>\n",
       "      <td>0</td>\n",
       "      <td>0</td>\n",
       "      <td>...</td>\n",
       "      <td>0</td>\n",
       "      <td>0</td>\n",
       "      <td>0</td>\n",
       "      <td>3</td>\n",
       "      <td>0</td>\n",
       "      <td>0</td>\n",
       "      <td>0</td>\n",
       "      <td>0</td>\n",
       "      <td>0</td>\n",
       "      <td>0</td>\n",
       "    </tr>\n",
       "    <tr>\n",
       "      <th>freq</th>\n",
       "      <td>1</td>\n",
       "      <td>3899</td>\n",
       "      <td>4526</td>\n",
       "      <td>2399</td>\n",
       "      <td>6399</td>\n",
       "      <td>1349</td>\n",
       "      <td>83</td>\n",
       "      <td>80</td>\n",
       "      <td>879</td>\n",
       "      <td>1248</td>\n",
       "      <td>...</td>\n",
       "      <td>4183</td>\n",
       "      <td>1413</td>\n",
       "      <td>1480</td>\n",
       "      <td>51</td>\n",
       "      <td>3346</td>\n",
       "      <td>781</td>\n",
       "      <td>5713</td>\n",
       "      <td>2495</td>\n",
       "      <td>5014</td>\n",
       "      <td>2122</td>\n",
       "    </tr>\n",
       "  </tbody>\n",
       "</table>\n",
       "<p>4 rows × 27 columns</p>\n",
       "</div>"
      ],
      "text/plain": [
       "         Player Name   GpG AssistspG YelCardpG RedCardpG   SpG   PS% Rating  \\\n",
       "count           6911  6911      6911      6911      6911  6911  6911   6911   \n",
       "unique          6911   258       118       208        77    55   545    247   \n",
       "top     Siem de Jong   0.0       0.0       0.0       0.0     0   100   6.74   \n",
       "freq               1  3899      4526      2399      6399  1349    83     80   \n",
       "\n",
       "       Tackles Inter     ...     Offoff Dispoff  KeyP  AvgP Crosses LongB  \\\n",
       "count     6911  6911     ...       6911    6911  6911  6911    6911  6911   \n",
       "unique      54    51     ...         22      44    40   698      34   126   \n",
       "top          0     0     ...          0       0     0     3       0     0   \n",
       "freq       879  1248     ...       4183    1413  1480    51    3346   781   \n",
       "\n",
       "        ThrB OutOfBox SixYardBox PenaltyArea  \n",
       "count   6911     6911       6911        6911  \n",
       "unique    11       32         10          37  \n",
       "top        0        0          0           0  \n",
       "freq    5713     2495       5014        2122  \n",
       "\n",
       "[4 rows x 27 columns]"
      ]
     },
     "execution_count": 109,
     "metadata": {},
     "output_type": "execute_result"
    }
   ],
   "source": [
    "df_ws.describe()"
   ]
  },
  {
   "cell_type": "code",
   "execution_count": null,
   "metadata": {
    "collapsed": true
   },
   "outputs": [],
   "source": [
    "#pd.to_numeric(df_ws, errors='ignore')"
   ]
  },
  {
   "cell_type": "code",
   "execution_count": 119,
   "metadata": {},
   "outputs": [
    {
     "ename": "NameError",
     "evalue": "name 'float64' is not defined",
     "output_type": "error",
     "traceback": [
      "\u001b[0;31m---------------------------------------------------------------------------\u001b[0m",
      "\u001b[0;31mNameError\u001b[0m                                 Traceback (most recent call last)",
      "\u001b[0;32m<ipython-input-119-ca7eadf2ac42>\u001b[0m in \u001b[0;36m<module>\u001b[0;34m()\u001b[0m\n\u001b[1;32m      1\u001b[0m \u001b[0;31m#convert who scored data to float instead of string\u001b[0m\u001b[0;34m\u001b[0m\u001b[0;34m\u001b[0m\u001b[0m\n\u001b[0;32m----> 2\u001b[0;31m \u001b[0mdf_ws\u001b[0m\u001b[0;34m.\u001b[0m\u001b[0miloc\u001b[0m\u001b[0;34m[\u001b[0m\u001b[0;34m:\u001b[0m\u001b[0;34m,\u001b[0m \u001b[0;36m1\u001b[0m \u001b[0;34m:\u001b[0m\u001b[0;34m]\u001b[0m \u001b[0;34m=\u001b[0m \u001b[0mdf_ws\u001b[0m\u001b[0;34m.\u001b[0m\u001b[0miloc\u001b[0m\u001b[0;34m[\u001b[0m\u001b[0;34m:\u001b[0m\u001b[0;34m,\u001b[0m \u001b[0;36m1\u001b[0m \u001b[0;34m:\u001b[0m\u001b[0;34m]\u001b[0m\u001b[0;34m.\u001b[0m\u001b[0mastype\u001b[0m\u001b[0;34m(\u001b[0m\u001b[0mfloat64\u001b[0m\u001b[0;34m)\u001b[0m\u001b[0;34m\u001b[0m\u001b[0m\n\u001b[0m",
      "\u001b[0;31mNameError\u001b[0m: name 'float64' is not defined"
     ]
    }
   ],
   "source": [
    "#convert who scored data to float instead of string\n",
    "#df_ws.iloc[:, 1 :] = df_ws.iloc[:, 1 :].astype(float)   "
   ]
  },
  {
   "cell_type": "code",
   "execution_count": 122,
   "metadata": {},
   "outputs": [],
   "source": [
    "df_ws[['GpG', 'AssistspG', 'YelCardpG', 'RedCardpG', 'SpG', 'PS%', 'Rating', 'Tackles', 'Inter', 'Foulsdef', 'Offsides', 'Clear', 'DrBdef', 'Blocks', 'DrBoff','Fouledoff', 'Offoff', 'Dispoff', 'KeyP', 'AvgP', 'Crosses', 'LongB', 'ThrB', 'OutOfBox', 'SixYardBox', 'PenaltyArea' ]] = df_ws[['GpG', 'AssistspG', 'YelCardpG', 'RedCardpG', 'SpG', 'PS%', 'Rating', 'Tackles', 'Inter', 'Foulsdef', 'Offsides', 'Clear', 'DrBdef', 'Blocks', 'DrBoff','Fouledoff', 'Offoff', 'Dispoff', 'KeyP', 'AvgP', 'Crosses', 'LongB', 'ThrB', 'OutOfBox', 'SixYardBox', 'PenaltyArea']].apply(pd.to_numeric)"
   ]
  },
  {
   "cell_type": "code",
   "execution_count": 123,
   "metadata": {},
   "outputs": [
    {
     "data": {
      "text/plain": [
       "['Name',\n",
       " 'date_of_birth',\n",
       " 'place_of_birth',\n",
       " 'Age',\n",
       " 'Height',\n",
       " 'shoe_size',\n",
       " 'Nationality',\n",
       " 'Position',\n",
       " 'Foot',\n",
       " 'current_club',\n",
       " 'current_market_value',\n",
       " 'highest_market_value',\n",
       " 'city_of_birth',\n",
       " 'country_of_birth',\n",
       " 'birth_country_code',\n",
       " 'Continent',\n",
       " 'continent_specific']"
      ]
     },
     "execution_count": 123,
     "metadata": {},
     "output_type": "execute_result"
    }
   ],
   "source": [
    "list(df_tm)"
   ]
  },
  {
   "cell_type": "code",
   "execution_count": 124,
   "metadata": {
    "collapsed": true
   },
   "outputs": [],
   "source": [
    "#should write code to just replace all periods with underscores in header\n",
    "#maybe header format?\n",
    "#make all lowercase?\n",
    "df_tm = df_tm.rename(columns={'Date.of.birth': 'date_of_birth', 'Place.of.birth': 'place_of_birth','Shoe.size': 'shoe_size', 'Current.club': 'current_club', 'Current.market.value': 'current_market_value', 'Highest.market.value': 'highest_market_value','City.of.birth': 'city_of_birth', 'Country.of.birth': 'country_of_birth', 'Birth.country.code': 'birth_country_code', 'Continent.specific' :'continent_specific' })"
   ]
  },
  {
   "cell_type": "code",
   "execution_count": 125,
   "metadata": {},
   "outputs": [
    {
     "data": {
      "text/plain": [
       "0         BR\n",
       "1         CL\n",
       "2         GB\n",
       "3         AR\n",
       "4         BE\n",
       "5         FR\n",
       "6         BE\n",
       "7        NaN\n",
       "8         FR\n",
       "9         GB\n",
       "10        BR\n",
       "11        BR\n",
       "12        DE\n",
       "13        GB\n",
       "14        CI\n",
       "15        BE\n",
       "16        ES\n",
       "17        UA\n",
       "18        JM\n",
       "19        DE\n",
       "20        PT\n",
       "21        AR\n",
       "22        BR\n",
       "23        CI\n",
       "24        BE\n",
       "25        AR\n",
       "26        PT\n",
       "27        BA\n",
       "28        BR\n",
       "29        DE\n",
       "        ... \n",
       "19326     BR\n",
       "19327     ES\n",
       "19328    NaN\n",
       "19329     GR\n",
       "19330    NaN\n",
       "19331     CI\n",
       "19332    NaN\n",
       "19333     FR\n",
       "19334     GR\n",
       "19335     GR\n",
       "19336     GR\n",
       "19337     FR\n",
       "19338     UA\n",
       "19339     GR\n",
       "19340     FR\n",
       "19341     GR\n",
       "19342     BR\n",
       "19343     GR\n",
       "19344     GR\n",
       "19345     GR\n",
       "19346     RS\n",
       "19347     GR\n",
       "19348     ES\n",
       "19349     GR\n",
       "19350     GR\n",
       "19351     GR\n",
       "19352    NaN\n",
       "19353     FR\n",
       "19354     RU\n",
       "19355     PL\n",
       "Name: birth_country_code, Length: 19354, dtype: object"
      ]
     },
     "execution_count": 125,
     "metadata": {},
     "output_type": "execute_result"
    }
   ],
   "source": [
    "df_tm['birth_country_code']"
   ]
  },
  {
   "cell_type": "code",
   "execution_count": 129,
   "metadata": {
    "collapsed": true
   },
   "outputs": [],
   "source": [
    "df_tm = df_tm[df_tm.birth_country_code != 'NaN']"
   ]
  },
  {
   "cell_type": "code",
   "execution_count": null,
   "metadata": {
    "collapsed": true
   },
   "outputs": [],
   "source": [
    "#df_tm['WCAfrica'] = (df_tm['birth_country_code'] == 'AO') or (df_tm['birth_country_code'] == 'BF') or (df_tm['birth_country_code'] == 'BJ') or (df_tm['birth_country_code'] == 'CM') or\n",
    "                                                          #  (df_tm['birth_country_code'] == 'CV') or (df_tm['birth_country_code'] == 'CF') or  (df_tm['birth_country_code'] == 'TD') or (df_tm['birth_country_code'] == 'CD') or (df_tm['birth_country_code'] == 'CG') or (df_tm['birth_country_code'] == 'CI') or df_tm['birth_country_code'] == 'AO') or (df_tm['birth_country_code'] == 'BF' or     )"
   ]
  },
  {
   "cell_type": "code",
   "execution_count": 130,
   "metadata": {
    "collapsed": true
   },
   "outputs": [],
   "source": [
    "#merge the data sets on player name. problem here is that a lot of the \n",
    "#go back and sort out the player name merge because especially with west african names there are ' and \n",
    "#diff spellings df_ws['Player Name'] = df_ws['Player Name'].str.replace(\"'\", '') NLP\n",
    "df_all = pd.merge(left=df_tm, right=df_ws, left_on='Name', right_on='Player Name')"
   ]
  },
  {
   "cell_type": "code",
   "execution_count": 131,
   "metadata": {},
   "outputs": [
    {
     "data": {
      "text/html": [
       "<div>\n",
       "<style>\n",
       "    .dataframe thead tr:only-child th {\n",
       "        text-align: right;\n",
       "    }\n",
       "\n",
       "    .dataframe thead th {\n",
       "        text-align: left;\n",
       "    }\n",
       "\n",
       "    .dataframe tbody tr th {\n",
       "        vertical-align: top;\n",
       "    }\n",
       "</style>\n",
       "<table border=\"1\" class=\"dataframe\">\n",
       "  <thead>\n",
       "    <tr style=\"text-align: right;\">\n",
       "      <th></th>\n",
       "      <th>Name</th>\n",
       "      <th>date_of_birth</th>\n",
       "      <th>place_of_birth</th>\n",
       "      <th>Age</th>\n",
       "      <th>Height</th>\n",
       "      <th>shoe_size</th>\n",
       "      <th>Nationality</th>\n",
       "      <th>Position</th>\n",
       "      <th>Foot</th>\n",
       "      <th>current_club</th>\n",
       "      <th>...</th>\n",
       "      <th>Offoff</th>\n",
       "      <th>Dispoff</th>\n",
       "      <th>KeyP</th>\n",
       "      <th>AvgP</th>\n",
       "      <th>Crosses</th>\n",
       "      <th>LongB</th>\n",
       "      <th>ThrB</th>\n",
       "      <th>OutOfBox</th>\n",
       "      <th>SixYardBox</th>\n",
       "      <th>PenaltyArea</th>\n",
       "    </tr>\n",
       "  </thead>\n",
       "  <tbody>\n",
       "    <tr>\n",
       "      <th>0</th>\n",
       "      <td>Ederson</td>\n",
       "      <td>Aug 17, 1993</td>\n",
       "      <td>Osasco (SP), Brazil</td>\n",
       "      <td>24</td>\n",
       "      <td>1.88</td>\n",
       "      <td>NaN</td>\n",
       "      <td>Brazil, Portugal</td>\n",
       "      <td>Goalkeeper</td>\n",
       "      <td>left</td>\n",
       "      <td>Manchester City</td>\n",
       "      <td>...</td>\n",
       "      <td>0.0</td>\n",
       "      <td>0.0</td>\n",
       "      <td>0.0</td>\n",
       "      <td>26.9</td>\n",
       "      <td>0.0</td>\n",
       "      <td>3.4</td>\n",
       "      <td>0.0</td>\n",
       "      <td>0.0</td>\n",
       "      <td>0.0</td>\n",
       "      <td>0.0</td>\n",
       "    </tr>\n",
       "    <tr>\n",
       "      <th>1</th>\n",
       "      <td>Ederson</td>\n",
       "      <td>Jan 13, 1986</td>\n",
       "      <td>Parapua, Brazil</td>\n",
       "      <td>31</td>\n",
       "      <td>1.81</td>\n",
       "      <td>NaN</td>\n",
       "      <td>Brazil, Italy</td>\n",
       "      <td>Midfield - Attacking Midfield</td>\n",
       "      <td>right</td>\n",
       "      <td>Clube de Regatas do Flamengo</td>\n",
       "      <td>...</td>\n",
       "      <td>0.0</td>\n",
       "      <td>0.0</td>\n",
       "      <td>0.0</td>\n",
       "      <td>26.9</td>\n",
       "      <td>0.0</td>\n",
       "      <td>3.4</td>\n",
       "      <td>0.0</td>\n",
       "      <td>0.0</td>\n",
       "      <td>0.0</td>\n",
       "      <td>0.0</td>\n",
       "    </tr>\n",
       "    <tr>\n",
       "      <th>2</th>\n",
       "      <td>Ederson</td>\n",
       "      <td>Mar 13, 1989</td>\n",
       "      <td>Pentecoste, Brazil</td>\n",
       "      <td>28</td>\n",
       "      <td>1.71</td>\n",
       "      <td>NaN</td>\n",
       "      <td>Brazil</td>\n",
       "      <td>Striker - Secondary Striker</td>\n",
       "      <td>right</td>\n",
       "      <td>Atletico Paranaense</td>\n",
       "      <td>...</td>\n",
       "      <td>0.0</td>\n",
       "      <td>0.0</td>\n",
       "      <td>0.0</td>\n",
       "      <td>26.9</td>\n",
       "      <td>0.0</td>\n",
       "      <td>3.4</td>\n",
       "      <td>0.0</td>\n",
       "      <td>0.0</td>\n",
       "      <td>0.0</td>\n",
       "      <td>0.0</td>\n",
       "    </tr>\n",
       "    <tr>\n",
       "      <th>3</th>\n",
       "      <td>Claudio Bravo</td>\n",
       "      <td>Apr 13, 1983</td>\n",
       "      <td>Viluco, Chile</td>\n",
       "      <td>34</td>\n",
       "      <td>1.84</td>\n",
       "      <td>NaN</td>\n",
       "      <td>Chile, Spain</td>\n",
       "      <td>Goalkeeper</td>\n",
       "      <td>right</td>\n",
       "      <td>Manchester City</td>\n",
       "      <td>...</td>\n",
       "      <td>0.0</td>\n",
       "      <td>0.0</td>\n",
       "      <td>0.0</td>\n",
       "      <td>14.0</td>\n",
       "      <td>0.0</td>\n",
       "      <td>2.0</td>\n",
       "      <td>0.0</td>\n",
       "      <td>0.0</td>\n",
       "      <td>0.0</td>\n",
       "      <td>0.0</td>\n",
       "    </tr>\n",
       "    <tr>\n",
       "      <th>4</th>\n",
       "      <td>Claudio Bravo</td>\n",
       "      <td>Mar 13, 1997</td>\n",
       "      <td>Undefined</td>\n",
       "      <td>20</td>\n",
       "      <td>NaN</td>\n",
       "      <td>NaN</td>\n",
       "      <td>Argentina</td>\n",
       "      <td>Defence - Left-Back</td>\n",
       "      <td>left</td>\n",
       "      <td>Club Atletico Banfield</td>\n",
       "      <td>...</td>\n",
       "      <td>0.0</td>\n",
       "      <td>0.0</td>\n",
       "      <td>0.0</td>\n",
       "      <td>14.0</td>\n",
       "      <td>0.0</td>\n",
       "      <td>2.0</td>\n",
       "      <td>0.0</td>\n",
       "      <td>0.0</td>\n",
       "      <td>0.0</td>\n",
       "      <td>0.0</td>\n",
       "    </tr>\n",
       "  </tbody>\n",
       "</table>\n",
       "<p>5 rows × 44 columns</p>\n",
       "</div>"
      ],
      "text/plain": [
       "            Name date_of_birth       place_of_birth Age  Height  shoe_size  \\\n",
       "0        Ederson  Aug 17, 1993  Osasco (SP), Brazil  24    1.88        NaN   \n",
       "1        Ederson  Jan 13, 1986      Parapua, Brazil  31    1.81        NaN   \n",
       "2        Ederson  Mar 13, 1989   Pentecoste, Brazil  28    1.71        NaN   \n",
       "3  Claudio Bravo  Apr 13, 1983        Viluco, Chile  34    1.84        NaN   \n",
       "4  Claudio Bravo  Mar 13, 1997            Undefined  20     NaN        NaN   \n",
       "\n",
       "        Nationality                       Position   Foot  \\\n",
       "0  Brazil, Portugal                     Goalkeeper   left   \n",
       "1     Brazil, Italy  Midfield - Attacking Midfield  right   \n",
       "2            Brazil    Striker - Secondary Striker  right   \n",
       "3      Chile, Spain                     Goalkeeper  right   \n",
       "4         Argentina            Defence - Left-Back   left   \n",
       "\n",
       "                   current_club     ...       Offoff  Dispoff KeyP  AvgP  \\\n",
       "0               Manchester City     ...          0.0      0.0  0.0  26.9   \n",
       "1  Clube de Regatas do Flamengo     ...          0.0      0.0  0.0  26.9   \n",
       "2           Atletico Paranaense     ...          0.0      0.0  0.0  26.9   \n",
       "3               Manchester City     ...          0.0      0.0  0.0  14.0   \n",
       "4        Club Atletico Banfield     ...          0.0      0.0  0.0  14.0   \n",
       "\n",
       "  Crosses LongB ThrB OutOfBox  SixYardBox  PenaltyArea  \n",
       "0     0.0   3.4  0.0      0.0         0.0          0.0  \n",
       "1     0.0   3.4  0.0      0.0         0.0          0.0  \n",
       "2     0.0   3.4  0.0      0.0         0.0          0.0  \n",
       "3     0.0   2.0  0.0      0.0         0.0          0.0  \n",
       "4     0.0   2.0  0.0      0.0         0.0          0.0  \n",
       "\n",
       "[5 rows x 44 columns]"
      ]
     },
     "execution_count": 131,
     "metadata": {},
     "output_type": "execute_result"
    }
   ],
   "source": [
    "df_all.head()"
   ]
  },
  {
   "cell_type": "code",
   "execution_count": 132,
   "metadata": {},
   "outputs": [
    {
     "data": {
      "text/html": [
       "<div>\n",
       "<style>\n",
       "    .dataframe thead tr:only-child th {\n",
       "        text-align: right;\n",
       "    }\n",
       "\n",
       "    .dataframe thead th {\n",
       "        text-align: left;\n",
       "    }\n",
       "\n",
       "    .dataframe tbody tr th {\n",
       "        vertical-align: top;\n",
       "    }\n",
       "</style>\n",
       "<table border=\"1\" class=\"dataframe\">\n",
       "  <thead>\n",
       "    <tr style=\"text-align: right;\">\n",
       "      <th></th>\n",
       "      <th>Height</th>\n",
       "      <th>shoe_size</th>\n",
       "      <th>current_market_value</th>\n",
       "      <th>highest_market_value</th>\n",
       "      <th>GpG</th>\n",
       "      <th>AssistspG</th>\n",
       "      <th>YelCardpG</th>\n",
       "      <th>RedCardpG</th>\n",
       "      <th>SpG</th>\n",
       "      <th>PS%</th>\n",
       "      <th>...</th>\n",
       "      <th>Offoff</th>\n",
       "      <th>Dispoff</th>\n",
       "      <th>KeyP</th>\n",
       "      <th>AvgP</th>\n",
       "      <th>Crosses</th>\n",
       "      <th>LongB</th>\n",
       "      <th>ThrB</th>\n",
       "      <th>OutOfBox</th>\n",
       "      <th>SixYardBox</th>\n",
       "      <th>PenaltyArea</th>\n",
       "    </tr>\n",
       "  </thead>\n",
       "  <tbody>\n",
       "    <tr>\n",
       "      <th>count</th>\n",
       "      <td>6203.000000</td>\n",
       "      <td>139.000000</td>\n",
       "      <td>5.979000e+03</td>\n",
       "      <td>5.991000e+03</td>\n",
       "      <td>6390.000000</td>\n",
       "      <td>6390.000000</td>\n",
       "      <td>6390.000000</td>\n",
       "      <td>6390.000000</td>\n",
       "      <td>6390.000000</td>\n",
       "      <td>6390.000000</td>\n",
       "      <td>...</td>\n",
       "      <td>6390.000000</td>\n",
       "      <td>6390.000000</td>\n",
       "      <td>6390.000000</td>\n",
       "      <td>6390.000000</td>\n",
       "      <td>6390.000000</td>\n",
       "      <td>6390.000000</td>\n",
       "      <td>6390.000000</td>\n",
       "      <td>6390.000000</td>\n",
       "      <td>6390.000000</td>\n",
       "      <td>6390.000000</td>\n",
       "    </tr>\n",
       "    <tr>\n",
       "      <th>mean</th>\n",
       "      <td>1.815017</td>\n",
       "      <td>9.910072</td>\n",
       "      <td>3.409216e+06</td>\n",
       "      <td>4.896186e+06</td>\n",
       "      <td>0.391748</td>\n",
       "      <td>0.079455</td>\n",
       "      <td>0.401274</td>\n",
       "      <td>0.026606</td>\n",
       "      <td>0.803646</td>\n",
       "      <td>75.564695</td>\n",
       "      <td>...</td>\n",
       "      <td>0.128419</td>\n",
       "      <td>0.713850</td>\n",
       "      <td>0.594961</td>\n",
       "      <td>28.251424</td>\n",
       "      <td>0.284992</td>\n",
       "      <td>2.054178</td>\n",
       "      <td>0.028451</td>\n",
       "      <td>0.347167</td>\n",
       "      <td>0.050454</td>\n",
       "      <td>0.409859</td>\n",
       "    </tr>\n",
       "    <tr>\n",
       "      <th>std</th>\n",
       "      <td>0.067497</td>\n",
       "      <td>1.201225</td>\n",
       "      <td>7.177537e+06</td>\n",
       "      <td>8.609531e+06</td>\n",
       "      <td>5.067822</td>\n",
       "      <td>0.182168</td>\n",
       "      <td>3.513067</td>\n",
       "      <td>0.641942</td>\n",
       "      <td>0.786813</td>\n",
       "      <td>12.605144</td>\n",
       "      <td>...</td>\n",
       "      <td>0.243031</td>\n",
       "      <td>0.681346</td>\n",
       "      <td>0.582697</td>\n",
       "      <td>15.455704</td>\n",
       "      <td>0.448037</td>\n",
       "      <td>2.089470</td>\n",
       "      <td>0.077352</td>\n",
       "      <td>0.433317</td>\n",
       "      <td>0.101510</td>\n",
       "      <td>0.482159</td>\n",
       "    </tr>\n",
       "    <tr>\n",
       "      <th>min</th>\n",
       "      <td>1.580000</td>\n",
       "      <td>7.500000</td>\n",
       "      <td>2.500000e+04</td>\n",
       "      <td>2.500000e+04</td>\n",
       "      <td>0.000000</td>\n",
       "      <td>0.000000</td>\n",
       "      <td>0.000000</td>\n",
       "      <td>0.000000</td>\n",
       "      <td>0.000000</td>\n",
       "      <td>0.000000</td>\n",
       "      <td>...</td>\n",
       "      <td>0.000000</td>\n",
       "      <td>0.000000</td>\n",
       "      <td>0.000000</td>\n",
       "      <td>0.000000</td>\n",
       "      <td>0.000000</td>\n",
       "      <td>0.000000</td>\n",
       "      <td>0.000000</td>\n",
       "      <td>0.000000</td>\n",
       "      <td>0.000000</td>\n",
       "      <td>0.000000</td>\n",
       "    </tr>\n",
       "    <tr>\n",
       "      <th>25%</th>\n",
       "      <td>1.770000</td>\n",
       "      <td>9.000000</td>\n",
       "      <td>5.000000e+05</td>\n",
       "      <td>7.000000e+05</td>\n",
       "      <td>0.000000</td>\n",
       "      <td>0.000000</td>\n",
       "      <td>0.000000</td>\n",
       "      <td>0.000000</td>\n",
       "      <td>0.200000</td>\n",
       "      <td>70.800000</td>\n",
       "      <td>...</td>\n",
       "      <td>0.000000</td>\n",
       "      <td>0.100000</td>\n",
       "      <td>0.100000</td>\n",
       "      <td>16.500000</td>\n",
       "      <td>0.000000</td>\n",
       "      <td>0.500000</td>\n",
       "      <td>0.000000</td>\n",
       "      <td>0.000000</td>\n",
       "      <td>0.000000</td>\n",
       "      <td>0.000000</td>\n",
       "    </tr>\n",
       "    <tr>\n",
       "      <th>50%</th>\n",
       "      <td>1.820000</td>\n",
       "      <td>10.000000</td>\n",
       "      <td>1.000000e+06</td>\n",
       "      <td>2.000000e+06</td>\n",
       "      <td>0.000000</td>\n",
       "      <td>0.000000</td>\n",
       "      <td>0.150000</td>\n",
       "      <td>0.000000</td>\n",
       "      <td>0.600000</td>\n",
       "      <td>77.900000</td>\n",
       "      <td>...</td>\n",
       "      <td>0.000000</td>\n",
       "      <td>0.600000</td>\n",
       "      <td>0.500000</td>\n",
       "      <td>27.400000</td>\n",
       "      <td>0.100000</td>\n",
       "      <td>1.500000</td>\n",
       "      <td>0.000000</td>\n",
       "      <td>0.200000</td>\n",
       "      <td>0.000000</td>\n",
       "      <td>0.300000</td>\n",
       "    </tr>\n",
       "    <tr>\n",
       "      <th>75%</th>\n",
       "      <td>1.860000</td>\n",
       "      <td>10.500000</td>\n",
       "      <td>3.000000e+06</td>\n",
       "      <td>5.000000e+06</td>\n",
       "      <td>0.220000</td>\n",
       "      <td>0.110000</td>\n",
       "      <td>0.310000</td>\n",
       "      <td>0.000000</td>\n",
       "      <td>1.100000</td>\n",
       "      <td>83.300000</td>\n",
       "      <td>...</td>\n",
       "      <td>0.200000</td>\n",
       "      <td>1.100000</td>\n",
       "      <td>0.900000</td>\n",
       "      <td>38.500000</td>\n",
       "      <td>0.400000</td>\n",
       "      <td>2.900000</td>\n",
       "      <td>0.000000</td>\n",
       "      <td>0.500000</td>\n",
       "      <td>0.100000</td>\n",
       "      <td>0.600000</td>\n",
       "    </tr>\n",
       "    <tr>\n",
       "      <th>max</th>\n",
       "      <td>2.030000</td>\n",
       "      <td>13.000000</td>\n",
       "      <td>1.200000e+08</td>\n",
       "      <td>1.200000e+08</td>\n",
       "      <td>270.000000</td>\n",
       "      <td>4.090000</td>\n",
       "      <td>90.000000</td>\n",
       "      <td>45.000000</td>\n",
       "      <td>7.000000</td>\n",
       "      <td>100.000000</td>\n",
       "      <td>...</td>\n",
       "      <td>2.400000</td>\n",
       "      <td>5.100000</td>\n",
       "      <td>4.200000</td>\n",
       "      <td>101.200000</td>\n",
       "      <td>3.300000</td>\n",
       "      <td>14.300000</td>\n",
       "      <td>1.500000</td>\n",
       "      <td>3.700000</td>\n",
       "      <td>1.000000</td>\n",
       "      <td>4.800000</td>\n",
       "    </tr>\n",
       "  </tbody>\n",
       "</table>\n",
       "<p>8 rows × 30 columns</p>\n",
       "</div>"
      ],
      "text/plain": [
       "            Height   shoe_size  current_market_value  highest_market_value  \\\n",
       "count  6203.000000  139.000000          5.979000e+03          5.991000e+03   \n",
       "mean      1.815017    9.910072          3.409216e+06          4.896186e+06   \n",
       "std       0.067497    1.201225          7.177537e+06          8.609531e+06   \n",
       "min       1.580000    7.500000          2.500000e+04          2.500000e+04   \n",
       "25%       1.770000    9.000000          5.000000e+05          7.000000e+05   \n",
       "50%       1.820000   10.000000          1.000000e+06          2.000000e+06   \n",
       "75%       1.860000   10.500000          3.000000e+06          5.000000e+06   \n",
       "max       2.030000   13.000000          1.200000e+08          1.200000e+08   \n",
       "\n",
       "               GpG    AssistspG    YelCardpG    RedCardpG          SpG  \\\n",
       "count  6390.000000  6390.000000  6390.000000  6390.000000  6390.000000   \n",
       "mean      0.391748     0.079455     0.401274     0.026606     0.803646   \n",
       "std       5.067822     0.182168     3.513067     0.641942     0.786813   \n",
       "min       0.000000     0.000000     0.000000     0.000000     0.000000   \n",
       "25%       0.000000     0.000000     0.000000     0.000000     0.200000   \n",
       "50%       0.000000     0.000000     0.150000     0.000000     0.600000   \n",
       "75%       0.220000     0.110000     0.310000     0.000000     1.100000   \n",
       "max     270.000000     4.090000    90.000000    45.000000     7.000000   \n",
       "\n",
       "               PS%     ...            Offoff      Dispoff         KeyP  \\\n",
       "count  6390.000000     ...       6390.000000  6390.000000  6390.000000   \n",
       "mean     75.564695     ...          0.128419     0.713850     0.594961   \n",
       "std      12.605144     ...          0.243031     0.681346     0.582697   \n",
       "min       0.000000     ...          0.000000     0.000000     0.000000   \n",
       "25%      70.800000     ...          0.000000     0.100000     0.100000   \n",
       "50%      77.900000     ...          0.000000     0.600000     0.500000   \n",
       "75%      83.300000     ...          0.200000     1.100000     0.900000   \n",
       "max     100.000000     ...          2.400000     5.100000     4.200000   \n",
       "\n",
       "              AvgP      Crosses        LongB         ThrB     OutOfBox  \\\n",
       "count  6390.000000  6390.000000  6390.000000  6390.000000  6390.000000   \n",
       "mean     28.251424     0.284992     2.054178     0.028451     0.347167   \n",
       "std      15.455704     0.448037     2.089470     0.077352     0.433317   \n",
       "min       0.000000     0.000000     0.000000     0.000000     0.000000   \n",
       "25%      16.500000     0.000000     0.500000     0.000000     0.000000   \n",
       "50%      27.400000     0.100000     1.500000     0.000000     0.200000   \n",
       "75%      38.500000     0.400000     2.900000     0.000000     0.500000   \n",
       "max     101.200000     3.300000    14.300000     1.500000     3.700000   \n",
       "\n",
       "        SixYardBox  PenaltyArea  \n",
       "count  6390.000000  6390.000000  \n",
       "mean      0.050454     0.409859  \n",
       "std       0.101510     0.482159  \n",
       "min       0.000000     0.000000  \n",
       "25%       0.000000     0.000000  \n",
       "50%       0.000000     0.300000  \n",
       "75%       0.100000     0.600000  \n",
       "max       1.000000     4.800000  \n",
       "\n",
       "[8 rows x 30 columns]"
      ]
     },
     "execution_count": 132,
     "metadata": {},
     "output_type": "execute_result"
    }
   ],
   "source": [
    "df_all.describe()"
   ]
  },
  {
   "cell_type": "code",
   "execution_count": 133,
   "metadata": {
    "collapsed": true
   },
   "outputs": [],
   "source": [
    "\n",
    "df_all.loc[df_all['Position'].str.contains('Striker', case=False), 'Position'] = 'Striker'\n",
    "df_all.loc[df_all['Position'].str.contains('Midfield', case=False), 'Position'] ='Midfielder'\n",
    "df_all.loc[df_all['Position'].str.contains('Defence', case=False), 'Position'] = 'Defender'"
   ]
  },
  {
   "cell_type": "code",
   "execution_count": 134,
   "metadata": {},
   "outputs": [
    {
     "data": {
      "text/plain": [
       "Name                     object\n",
       "date_of_birth            object\n",
       "place_of_birth           object\n",
       "Age                      object\n",
       "Height                  float64\n",
       "shoe_size               float64\n",
       "Nationality              object\n",
       "Position                 object\n",
       "Foot                     object\n",
       "current_club             object\n",
       "current_market_value    float64\n",
       "highest_market_value    float64\n",
       "city_of_birth            object\n",
       "country_of_birth         object\n",
       "birth_country_code       object\n",
       "Continent                object\n",
       "continent_specific       object\n",
       "Player Name              object\n",
       "GpG                     float64\n",
       "AssistspG               float64\n",
       "YelCardpG               float64\n",
       "RedCardpG               float64\n",
       "SpG                     float64\n",
       "PS%                     float64\n",
       "Rating                  float64\n",
       "Tackles                 float64\n",
       "Inter                   float64\n",
       "Foulsdef                float64\n",
       "Offsides                float64\n",
       "Clear                   float64\n",
       "DrBdef                  float64\n",
       "Blocks                  float64\n",
       "DrBoff                  float64\n",
       "Fouledoff               float64\n",
       "Offoff                  float64\n",
       "Dispoff                 float64\n",
       "KeyP                    float64\n",
       "AvgP                    float64\n",
       "Crosses                 float64\n",
       "LongB                   float64\n",
       "ThrB                    float64\n",
       "OutOfBox                float64\n",
       "SixYardBox              float64\n",
       "PenaltyArea             float64\n",
       "dtype: object"
      ]
     },
     "execution_count": 134,
     "metadata": {},
     "output_type": "execute_result"
    }
   ],
   "source": [
    "df_all.dtypes"
   ]
  },
  {
   "cell_type": "code",
   "execution_count": 135,
   "metadata": {
    "collapsed": true
   },
   "outputs": [],
   "source": [
    "df_all['birth_country_code'] = df_all['birth_country_code'].astype(str)"
   ]
  },
  {
   "cell_type": "code",
   "execution_count": 136,
   "metadata": {
    "collapsed": true
   },
   "outputs": [],
   "source": [
    "def wcaf (birth_country_code):\n",
    "    if 'AO' in birth_country_code:\n",
    "        return True\n",
    "    elif 'BF' in birth_country_code:\n",
    "        return True\n",
    "    elif 'BJ' in birth_country_code:\n",
    "        return True\n",
    "    elif 'CM' in birth_country_code:\n",
    "        return True\n",
    "    elif 'CV' in birth_country_code:\n",
    "        return True\n",
    "    elif 'CF' in birth_country_code:\n",
    "        return True\n",
    "    elif 'TD' in birth_country_code:\n",
    "        return True\n",
    "    elif 'CD' in birth_country_code:\n",
    "        return True\n",
    "    elif 'CG' in birth_country_code:\n",
    "        return True\n",
    "    elif 'CI' in birth_country_code:\n",
    "        return True\n",
    "    elif 'GQ' in birth_country_code:\n",
    "        return True\n",
    "    elif 'GA' in birth_country_code:\n",
    "        return True\n",
    "    elif 'GM' in birth_country_code:\n",
    "        return True\n",
    "    elif 'GH' in birth_country_code:\n",
    "        return True\n",
    "    elif 'GN' in birth_country_code:\n",
    "        return True\n",
    "    elif 'GW' in birth_country_code:   \n",
    "        return True\n",
    "    elif 'LR' in birth_country_code:\n",
    "        return True\n",
    "    elif 'ML' in birth_country_code:\n",
    "        return True\n",
    "    elif 'NE' in birth_country_code:\n",
    "        return True\n",
    "    elif 'NG' in birth_country_code:\n",
    "        return True\n",
    "    elif 'SN' in birth_country_code:\n",
    "        return True\n",
    "    elif 'ST' in birth_country_code:\n",
    "        return True\n",
    "    elif 'SL' in birth_country_code:\n",
    "        return True\n",
    "    elif 'TG' in birth_country_code:\n",
    "        return True\n",
    "    elif 'MR' in birth_country_code:\n",
    "        return True\n",
    "    elif 'SH' in birth_country_code:\n",
    "        return True\n",
    "    else:\n",
    "        return False\n",
    "    \n"
   ]
  },
  {
   "cell_type": "code",
   "execution_count": 137,
   "metadata": {
    "collapsed": true
   },
   "outputs": [],
   "source": [
    "df_all['wc_africa'] = df_all['birth_country_code'].apply(wcaf)"
   ]
  },
  {
   "cell_type": "code",
   "execution_count": 232,
   "metadata": {},
   "outputs": [],
   "source": [
    "def tteam (current_club):\n",
    "    if 'Manchester United' in current_club:\n",
    "        return 1\n",
    "    elif 'FC Barcelona' in current_club:\n",
    "        return 1\n",
    "    elif 'Real Madrid' in current_club:\n",
    "        return 1\n",
    "    elif 'Bayern Munich' in current_club:\n",
    "        return 1\n",
    "    elif 'Manchester City' in current_club:\n",
    "        return 1\n",
    "    elif 'Arsenal FC' in current_club:\n",
    "        return 1\n",
    "    elif 'Chelsea FC' in current_club:\n",
    "        return 1\n",
    "    elif 'Liverpool FC' in current_club:\n",
    "        return 1\n",
    "    elif 'Juventus FC' in current_club:\n",
    "        return 1\n",
    "    elif 'Tottenham Hotspur' in current_club:\n",
    "        return 1\n",
    "    elif 'Paris Saint-Germain' in current_club:\n",
    "        return 1\n",
    "    elif 'Borussia Dortmund' in current_club:\n",
    "        return 1\n",
    "    elif 'AC Milan' in current_club:\n",
    "        return 1\n",
    "    elif 'Atletico Madrid' in current_club:\n",
    "        return 1\n",
    "    elif 'West Ham United' in current_club:\n",
    "        return 1\n",
    "    else:\n",
    "        return 0\n",
    "    \n",
    "df_all['top_team'] = df_all['current_club'].apply(tteam)"
   ]
  },
  {
   "cell_type": "code",
   "execution_count": 233,
   "metadata": {
    "collapsed": true
   },
   "outputs": [],
   "source": [
    "#remove outliers of market value\n",
    "df_allc = df_all.sort_values('highest_market_value', ascending=False)\n",
    "df_allc = df_allc[df_allc['current_market_value'] >= 250000]\n",
    "df_allc = df_allc[df_allc['current_market_value'] <= 10000000]"
   ]
  },
  {
   "cell_type": "code",
   "execution_count": 234,
   "metadata": {
    "collapsed": true
   },
   "outputs": [],
   "source": [
    "df_allc = df_allc.sort_values('GpG', ascending=False)\n",
    "df_allc = df_allc[df_allc['GpG'] < 5]\n",
    "df_allc = df_allc[df_allc['YelCardpG'] < 5]\n",
    "df_allc = df_allc[df_allc['RedCardpG'] < 5]"
   ]
  },
  {
   "cell_type": "code",
   "execution_count": 187,
   "metadata": {},
   "outputs": [
    {
     "data": {
      "text/plain": [
       "'west and central africa country abbreviations\\n AO, BF, BJ, \\n CM, CV, CF, \\n TD, CD, CG, \\n CI, GQ, GA, \\n GM, GH, GN,\\n GW,LR, ML, \\n NE, NG, SN, \\n ST, SL, TG, \\n MR, SH\\n\\n Angola AO\\n Cameroon CM\\n Central African Republic CF\\n Chad TD\\n Democratic Republic of the Congo CD\\n Equatorial Guinea GQ\\n Gabon GA\\n Republic of the Congo CG\\n São Tomé and Príncipe ST\\n Benin BJ\\n Burkina Faso BF\\n Cape Verde CV\\n Ivory Coast CI\\n Gambia GM\\n Ghana GH\\n Guinea GN\\n Guinea-Bissau GW\\n Liberia LR\\n Mali ML\\n Mauritania MR\\n Niger NE\\n Nigeria NG\\n Saint Helena, Ascension and Tristan da Cunha SH\\n(United Kingdom)\\n\\n Senegal SN\\n Sierra Leone SL\\n Togo TG\\n '"
      ]
     },
     "execution_count": 187,
     "metadata": {},
     "output_type": "execute_result"
    }
   ],
   "source": [
    "\"\"\"west and central africa country abbreviations\n",
    " AO, BF, BJ, \n",
    " CM, CV, CF, \n",
    " TD, CD, CG, \n",
    " CI, GQ, GA, \n",
    " GM, GH, GN,\n",
    " GW,LR, ML, \n",
    " NE, NG, SN, \n",
    " ST, SL, TG, \n",
    " MR, SH\n",
    "\n",
    " Angola AO\n",
    " Cameroon CM\n",
    " Central African Republic CF\n",
    " Chad TD\n",
    " Democratic Republic of the Congo CD\n",
    " Equatorial Guinea GQ\n",
    " Gabon GA\n",
    " Republic of the Congo CG\n",
    " São Tomé and Príncipe ST\n",
    " Benin BJ\n",
    " Burkina Faso BF\n",
    " Cape Verde CV\n",
    " Ivory Coast CI\n",
    " Gambia GM\n",
    " Ghana GH\n",
    " Guinea GN\n",
    " Guinea-Bissau GW\n",
    " Liberia LR\n",
    " Mali ML\n",
    " Mauritania MR\n",
    " Niger NE\n",
    " Nigeria NG\n",
    " Saint Helena, Ascension and Tristan da Cunha SH\n",
    "(United Kingdom)\n",
    "\n",
    " Senegal SN\n",
    " Sierra Leone SL\n",
    " Togo TG\n",
    " \"\"\""
   ]
  },
  {
   "cell_type": "code",
   "execution_count": 235,
   "metadata": {
    "collapsed": true
   },
   "outputs": [],
   "source": [
    "#create bins for rating\n",
    "rat_bins=[5,5.1,5.2,5.3,5.4,5.5,5.6,5.7,5.8,5.9,6,6.1,6.2,6.3,6.4,6.5,6.6,6.7,6.8,6.9,7,7.1,7.2,7.3,7.4,7.5,7.6,7.7,7.8,7.9,8,8.1,8.2,8.3,8.4,8.5,8.6,8.7,8.8,8.9,9,9.1,9.2,9.3,9.4,9.5,9.6,9.7,9.8,9.9,10]\n",
    "df_allc['binned_values'] = np.digitize(df_allc.Rating.values, bins=rat_bins)"
   ]
  },
  {
   "cell_type": "code",
   "execution_count": 236,
   "metadata": {},
   "outputs": [],
   "source": [
    "Avg=df_allc.groupby(['binned_values','wc_africa'], as_index=False)['current_market_value'].mean()"
   ]
  },
  {
   "cell_type": "code",
   "execution_count": 237,
   "metadata": {},
   "outputs": [
    {
     "data": {
      "text/html": [
       "<div>\n",
       "<style>\n",
       "    .dataframe thead tr:only-child th {\n",
       "        text-align: right;\n",
       "    }\n",
       "\n",
       "    .dataframe thead th {\n",
       "        text-align: left;\n",
       "    }\n",
       "\n",
       "    .dataframe tbody tr th {\n",
       "        vertical-align: top;\n",
       "    }\n",
       "</style>\n",
       "<table border=\"1\" class=\"dataframe\">\n",
       "  <thead>\n",
       "    <tr style=\"text-align: right;\">\n",
       "      <th></th>\n",
       "      <th>binned_values</th>\n",
       "      <th>wc_africa</th>\n",
       "      <th>current_market_value</th>\n",
       "    </tr>\n",
       "  </thead>\n",
       "  <tbody>\n",
       "    <tr>\n",
       "      <th>0</th>\n",
       "      <td>0</td>\n",
       "      <td>False</td>\n",
       "      <td>1000000.0</td>\n",
       "    </tr>\n",
       "    <tr>\n",
       "      <th>1</th>\n",
       "      <td>5</td>\n",
       "      <td>False</td>\n",
       "      <td>1281250.0</td>\n",
       "    </tr>\n",
       "    <tr>\n",
       "      <th>2</th>\n",
       "      <td>6</td>\n",
       "      <td>False</td>\n",
       "      <td>1800000.0</td>\n",
       "    </tr>\n",
       "    <tr>\n",
       "      <th>3</th>\n",
       "      <td>6</td>\n",
       "      <td>True</td>\n",
       "      <td>850000.0</td>\n",
       "    </tr>\n",
       "    <tr>\n",
       "      <th>4</th>\n",
       "      <td>7</td>\n",
       "      <td>False</td>\n",
       "      <td>1900000.0</td>\n",
       "    </tr>\n",
       "  </tbody>\n",
       "</table>\n",
       "</div>"
      ],
      "text/plain": [
       "   binned_values  wc_africa  current_market_value\n",
       "0              0      False             1000000.0\n",
       "1              5      False             1281250.0\n",
       "2              6      False             1800000.0\n",
       "3              6       True              850000.0\n",
       "4              7      False             1900000.0"
      ]
     },
     "execution_count": 237,
     "metadata": {},
     "output_type": "execute_result"
    }
   ],
   "source": [
    "Avg.head()"
   ]
  },
  {
   "cell_type": "code",
   "execution_count": 238,
   "metadata": {},
   "outputs": [
    {
     "data": {
      "text/html": [
       "<div>\n",
       "<style>\n",
       "    .dataframe thead tr:only-child th {\n",
       "        text-align: right;\n",
       "    }\n",
       "\n",
       "    .dataframe thead th {\n",
       "        text-align: left;\n",
       "    }\n",
       "\n",
       "    .dataframe tbody tr th {\n",
       "        vertical-align: top;\n",
       "    }\n",
       "</style>\n",
       "<table border=\"1\" class=\"dataframe\">\n",
       "  <thead>\n",
       "    <tr style=\"text-align: right;\">\n",
       "      <th></th>\n",
       "      <th>binned_values</th>\n",
       "      <th>current_market_value</th>\n",
       "    </tr>\n",
       "  </thead>\n",
       "  <tbody>\n",
       "    <tr>\n",
       "      <th>count</th>\n",
       "      <td>49.000000</td>\n",
       "      <td>4.900000e+01</td>\n",
       "    </tr>\n",
       "    <tr>\n",
       "      <th>mean</th>\n",
       "      <td>17.673469</td>\n",
       "      <td>2.609608e+06</td>\n",
       "    </tr>\n",
       "    <tr>\n",
       "      <th>std</th>\n",
       "      <td>7.728162</td>\n",
       "      <td>1.319629e+06</td>\n",
       "    </tr>\n",
       "    <tr>\n",
       "      <th>min</th>\n",
       "      <td>0.000000</td>\n",
       "      <td>8.500000e+05</td>\n",
       "    </tr>\n",
       "    <tr>\n",
       "      <th>25%</th>\n",
       "      <td>12.000000</td>\n",
       "      <td>1.700325e+06</td>\n",
       "    </tr>\n",
       "    <tr>\n",
       "      <th>50%</th>\n",
       "      <td>18.000000</td>\n",
       "      <td>2.260000e+06</td>\n",
       "    </tr>\n",
       "    <tr>\n",
       "      <th>75%</th>\n",
       "      <td>24.000000</td>\n",
       "      <td>3.228571e+06</td>\n",
       "    </tr>\n",
       "    <tr>\n",
       "      <th>max</th>\n",
       "      <td>32.000000</td>\n",
       "      <td>6.500000e+06</td>\n",
       "    </tr>\n",
       "  </tbody>\n",
       "</table>\n",
       "</div>"
      ],
      "text/plain": [
       "       binned_values  current_market_value\n",
       "count      49.000000          4.900000e+01\n",
       "mean       17.673469          2.609608e+06\n",
       "std         7.728162          1.319629e+06\n",
       "min         0.000000          8.500000e+05\n",
       "25%        12.000000          1.700325e+06\n",
       "50%        18.000000          2.260000e+06\n",
       "75%        24.000000          3.228571e+06\n",
       "max        32.000000          6.500000e+06"
      ]
     },
     "execution_count": 238,
     "metadata": {},
     "output_type": "execute_result"
    }
   ],
   "source": [
    "Avg.describe()"
   ]
  },
  {
   "cell_type": "code",
   "execution_count": 239,
   "metadata": {},
   "outputs": [
    {
     "data": {
      "image/png": "[encoded data removed]",
      "text/plain": [
       "<matplotlib.figure.Figure at 0x1a25322d30>"
      ]
     },
     "metadata": {},
     "output_type": "display_data"
    }
   ],
   "source": [
    "plt.scatter(\n",
    "    df_allc[df_allc['wc_africa'] == 0].Rating,\n",
    "    df_allc[df_allc['wc_africa'] == 0].current_market_value,\n",
    "    color='red'\n",
    ")\n",
    "plt.scatter(\n",
    "    df_allc[df_allc['wc_africa'] == 1].Rating,\n",
    "   df_allc[df_allc['wc_africa'] == 1].current_market_value,\n",
    "    color='blue'\n",
    ")\n",
    "plt.legend(['Not born in WC Africa', 'Born in WC Africa'])\n",
    "plt.title('Born in W C Africa')\n",
    "plt.xlabel('Rating')\n",
    "plt.ylabel('Current Market Value')\n",
    "plt.show()"
   ]
  },
  {
   "cell_type": "code",
   "execution_count": 240,
   "metadata": {},
   "outputs": [
    {
     "data": {
      "image/png": "[encoded data removed]",
      "text/plain": [
       "<matplotlib.figure.Figure at 0x1a1bfb5b00>"
      ]
     },
     "metadata": {},
     "output_type": "display_data"
    }
   ],
   "source": [
    "plt.scatter(\n",
    "    Avg[Avg['wc_africa'] == 1].binned_values,\n",
    "    Avg[Avg['wc_africa'] == 1].current_market_value,\n",
    "    color='red'\n",
    ")\n",
    "plt.scatter(\n",
    "    Avg[Avg['wc_africa'] == 0].binned_values,\n",
    "   Avg[Avg['wc_africa'] == 0].current_market_value,\n",
    "    color='blue'\n",
    ")\n",
    "plt.legend(['Born in WC Africa', 'Not Born in W'])\n",
    "plt.title('Born in W C Africa')\n",
    "plt.xlabel('Rating values 33 bins')\n",
    "plt.ylabel('Current Market Value')\n",
    "plt.show()"
   ]
  },
  {
   "cell_type": "code",
   "execution_count": 241,
   "metadata": {
    "collapsed": true
   },
   "outputs": [],
   "source": [
    "#create new data frame for middle rating range\n",
    "Avg_rc = Avg[Avg['binned_values'] >= 9]\n",
    "Avg_rc = Avg[Avg['binned_values'] <= 24]"
   ]
  },
  {
   "cell_type": "code",
   "execution_count": 242,
   "metadata": {},
   "outputs": [
    {
     "data": {
      "image/png": "[encoded data removed]",
      "text/plain": [
       "<matplotlib.figure.Figure at 0x1a251af080>"
      ]
     },
     "metadata": {},
     "output_type": "display_data"
    }
   ],
   "source": [
    "plt.scatter(\n",
    "    Avg_rc[Avg_rc['wc_africa'] == 1].binned_values,\n",
    "    Avg_rc[Avg_rc['wc_africa'] == 1].current_market_value,\n",
    "    color='red'\n",
    ")\n",
    "plt.scatter(\n",
    "    Avg_rc[Avg_rc['wc_africa'] == 0].binned_values,\n",
    "   Avg_rc[Avg_rc['wc_africa'] == 0].current_market_value,\n",
    "    color='blue'\n",
    ")\n",
    "plt.legend(['Born in WC Africa', 'Not Born in W'])\n",
    "plt.title('Born in W C Africa')\n",
    "plt.xlabel('Rating values within one standard deviation of mean?')\n",
    "plt.ylabel('Current Market Value')\n",
    "plt.show()"
   ]
  },
  {
   "cell_type": "code",
   "execution_count": 243,
   "metadata": {},
   "outputs": [
    {
     "data": {
      "text/html": [
       "<div>\n",
       "<style>\n",
       "    .dataframe thead tr:only-child th {\n",
       "        text-align: right;\n",
       "    }\n",
       "\n",
       "    .dataframe thead th {\n",
       "        text-align: left;\n",
       "    }\n",
       "\n",
       "    .dataframe tbody tr th {\n",
       "        vertical-align: top;\n",
       "    }\n",
       "</style>\n",
       "<table border=\"1\" class=\"dataframe\">\n",
       "  <thead>\n",
       "    <tr style=\"text-align: right;\">\n",
       "      <th></th>\n",
       "      <th>binned_values</th>\n",
       "      <th>current_market_value</th>\n",
       "    </tr>\n",
       "  </thead>\n",
       "  <tbody>\n",
       "    <tr>\n",
       "      <th>count</th>\n",
       "      <td>38.000000</td>\n",
       "      <td>3.800000e+01</td>\n",
       "    </tr>\n",
       "    <tr>\n",
       "      <th>mean</th>\n",
       "      <td>14.736842</td>\n",
       "      <td>2.153287e+06</td>\n",
       "    </tr>\n",
       "    <tr>\n",
       "      <th>std</th>\n",
       "      <td>6.038991</td>\n",
       "      <td>7.718475e+05</td>\n",
       "    </tr>\n",
       "    <tr>\n",
       "      <th>min</th>\n",
       "      <td>0.000000</td>\n",
       "      <td>8.500000e+05</td>\n",
       "    </tr>\n",
       "    <tr>\n",
       "      <th>25%</th>\n",
       "      <td>10.250000</td>\n",
       "      <td>1.621087e+06</td>\n",
       "    </tr>\n",
       "    <tr>\n",
       "      <th>50%</th>\n",
       "      <td>15.000000</td>\n",
       "      <td>1.991124e+06</td>\n",
       "    </tr>\n",
       "    <tr>\n",
       "      <th>75%</th>\n",
       "      <td>19.750000</td>\n",
       "      <td>2.629905e+06</td>\n",
       "    </tr>\n",
       "    <tr>\n",
       "      <th>max</th>\n",
       "      <td>24.000000</td>\n",
       "      <td>4.071429e+06</td>\n",
       "    </tr>\n",
       "  </tbody>\n",
       "</table>\n",
       "</div>"
      ],
      "text/plain": [
       "       binned_values  current_market_value\n",
       "count      38.000000          3.800000e+01\n",
       "mean       14.736842          2.153287e+06\n",
       "std         6.038991          7.718475e+05\n",
       "min         0.000000          8.500000e+05\n",
       "25%        10.250000          1.621087e+06\n",
       "50%        15.000000          1.991124e+06\n",
       "75%        19.750000          2.629905e+06\n",
       "max        24.000000          4.071429e+06"
      ]
     },
     "execution_count": 243,
     "metadata": {},
     "output_type": "execute_result"
    }
   ],
   "source": [
    "Avg_rc.describe()"
   ]
  },
  {
   "cell_type": "code",
   "execution_count": 244,
   "metadata": {},
   "outputs": [
    {
     "data": {
      "text/plain": [
       "<matplotlib.axes._subplots.AxesSubplot at 0x1a1bf242b0>"
      ]
     },
     "execution_count": 244,
     "metadata": {},
     "output_type": "execute_result"
    },
    {
     "data": {
      "image/png": "[encoded data removed]",
      "text/plain": [
       "<matplotlib.figure.Figure at 0x1a25774128>"
      ]
     },
     "metadata": {},
     "output_type": "display_data"
    }
   ],
   "source": [
    "Avg[['current_market_value']].plot(kind='hist')"
   ]
  },
  {
   "cell_type": "code",
   "execution_count": 245,
   "metadata": {
    "collapsed": true
   },
   "outputs": [],
   "source": [
    "Avg_wcaf = Avg[Avg['wc_africa']==True]"
   ]
  },
  {
   "cell_type": "code",
   "execution_count": 246,
   "metadata": {},
   "outputs": [
    {
     "data": {
      "text/html": [
       "<div>\n",
       "<style>\n",
       "    .dataframe thead tr:only-child th {\n",
       "        text-align: right;\n",
       "    }\n",
       "\n",
       "    .dataframe thead th {\n",
       "        text-align: left;\n",
       "    }\n",
       "\n",
       "    .dataframe tbody tr th {\n",
       "        vertical-align: top;\n",
       "    }\n",
       "</style>\n",
       "<table border=\"1\" class=\"dataframe\">\n",
       "  <thead>\n",
       "    <tr style=\"text-align: right;\">\n",
       "      <th></th>\n",
       "      <th>binned_values</th>\n",
       "      <th>current_market_value</th>\n",
       "    </tr>\n",
       "  </thead>\n",
       "  <tbody>\n",
       "    <tr>\n",
       "      <th>count</th>\n",
       "      <td>20.00000</td>\n",
       "      <td>2.000000e+01</td>\n",
       "    </tr>\n",
       "    <tr>\n",
       "      <th>mean</th>\n",
       "      <td>17.40000</td>\n",
       "      <td>2.791551e+06</td>\n",
       "    </tr>\n",
       "    <tr>\n",
       "      <th>std</th>\n",
       "      <td>6.09918</td>\n",
       "      <td>1.497612e+06</td>\n",
       "    </tr>\n",
       "    <tr>\n",
       "      <th>min</th>\n",
       "      <td>6.00000</td>\n",
       "      <td>8.500000e+05</td>\n",
       "    </tr>\n",
       "    <tr>\n",
       "      <th>25%</th>\n",
       "      <td>12.75000</td>\n",
       "      <td>1.850298e+06</td>\n",
       "    </tr>\n",
       "    <tr>\n",
       "      <th>50%</th>\n",
       "      <td>17.50000</td>\n",
       "      <td>2.524603e+06</td>\n",
       "    </tr>\n",
       "    <tr>\n",
       "      <th>75%</th>\n",
       "      <td>22.25000</td>\n",
       "      <td>3.331875e+06</td>\n",
       "    </tr>\n",
       "    <tr>\n",
       "      <th>max</th>\n",
       "      <td>27.00000</td>\n",
       "      <td>6.500000e+06</td>\n",
       "    </tr>\n",
       "  </tbody>\n",
       "</table>\n",
       "</div>"
      ],
      "text/plain": [
       "       binned_values  current_market_value\n",
       "count       20.00000          2.000000e+01\n",
       "mean        17.40000          2.791551e+06\n",
       "std          6.09918          1.497612e+06\n",
       "min          6.00000          8.500000e+05\n",
       "25%         12.75000          1.850298e+06\n",
       "50%         17.50000          2.524603e+06\n",
       "75%         22.25000          3.331875e+06\n",
       "max         27.00000          6.500000e+06"
      ]
     },
     "execution_count": 246,
     "metadata": {},
     "output_type": "execute_result"
    }
   ],
   "source": [
    "Avg_wcaf.describe()"
   ]
  },
  {
   "cell_type": "code",
   "execution_count": 247,
   "metadata": {},
   "outputs": [
    {
     "data": {
      "text/plain": [
       "<matplotlib.axes._subplots.AxesSubplot at 0x1a251e7630>"
      ]
     },
     "execution_count": 247,
     "metadata": {},
     "output_type": "execute_result"
    },
    {
     "data": {
      "image/png": "[encoded data removed]",
      "text/plain": [
       "<matplotlib.figure.Figure at 0x1a1bf2b828>"
      ]
     },
     "metadata": {},
     "output_type": "display_data"
    }
   ],
   "source": [
    "Avg_wcaf[['current_market_value']].plot(kind='hist', bins=10)"
   ]
  },
  {
   "cell_type": "code",
   "execution_count": 248,
   "metadata": {
    "collapsed": true
   },
   "outputs": [],
   "source": [
    "Avg_nwcaf = Avg[Avg['wc_africa']==False]"
   ]
  },
  {
   "cell_type": "code",
   "execution_count": 249,
   "metadata": {},
   "outputs": [
    {
     "data": {
      "text/html": [
       "<div>\n",
       "<style>\n",
       "    .dataframe thead tr:only-child th {\n",
       "        text-align: right;\n",
       "    }\n",
       "\n",
       "    .dataframe thead th {\n",
       "        text-align: left;\n",
       "    }\n",
       "\n",
       "    .dataframe tbody tr th {\n",
       "        vertical-align: top;\n",
       "    }\n",
       "</style>\n",
       "<table border=\"1\" class=\"dataframe\">\n",
       "  <thead>\n",
       "    <tr style=\"text-align: right;\">\n",
       "      <th></th>\n",
       "      <th>binned_values</th>\n",
       "      <th>current_market_value</th>\n",
       "    </tr>\n",
       "  </thead>\n",
       "  <tbody>\n",
       "    <tr>\n",
       "      <th>count</th>\n",
       "      <td>29.000000</td>\n",
       "      <td>2.900000e+01</td>\n",
       "    </tr>\n",
       "    <tr>\n",
       "      <th>mean</th>\n",
       "      <td>17.862069</td>\n",
       "      <td>2.484131e+06</td>\n",
       "    </tr>\n",
       "    <tr>\n",
       "      <th>std</th>\n",
       "      <td>8.777911</td>\n",
       "      <td>1.193068e+06</td>\n",
       "    </tr>\n",
       "    <tr>\n",
       "      <th>min</th>\n",
       "      <td>0.000000</td>\n",
       "      <td>1.000000e+06</td>\n",
       "    </tr>\n",
       "    <tr>\n",
       "      <th>25%</th>\n",
       "      <td>11.000000</td>\n",
       "      <td>1.625421e+06</td>\n",
       "    </tr>\n",
       "    <tr>\n",
       "      <th>50%</th>\n",
       "      <td>18.000000</td>\n",
       "      <td>2.056624e+06</td>\n",
       "    </tr>\n",
       "    <tr>\n",
       "      <th>75%</th>\n",
       "      <td>25.000000</td>\n",
       "      <td>2.850000e+06</td>\n",
       "    </tr>\n",
       "    <tr>\n",
       "      <th>max</th>\n",
       "      <td>32.000000</td>\n",
       "      <td>5.500000e+06</td>\n",
       "    </tr>\n",
       "  </tbody>\n",
       "</table>\n",
       "</div>"
      ],
      "text/plain": [
       "       binned_values  current_market_value\n",
       "count      29.000000          2.900000e+01\n",
       "mean       17.862069          2.484131e+06\n",
       "std         8.777911          1.193068e+06\n",
       "min         0.000000          1.000000e+06\n",
       "25%        11.000000          1.625421e+06\n",
       "50%        18.000000          2.056624e+06\n",
       "75%        25.000000          2.850000e+06\n",
       "max        32.000000          5.500000e+06"
      ]
     },
     "execution_count": 249,
     "metadata": {},
     "output_type": "execute_result"
    }
   ],
   "source": [
    "Avg_nwcaf.describe()"
   ]
  },
  {
   "cell_type": "code",
   "execution_count": 250,
   "metadata": {},
   "outputs": [
    {
     "data": {
      "text/plain": [
       "<matplotlib.axes._subplots.AxesSubplot at 0x1a259300b8>"
      ]
     },
     "execution_count": 250,
     "metadata": {},
     "output_type": "execute_result"
    },
    {
     "data": {
      "image/png": "[encoded data removed]",
      "text/plain": [
       "<matplotlib.figure.Figure at 0x1a2597def0>"
      ]
     },
     "metadata": {},
     "output_type": "display_data"
    }
   ],
   "source": [
    "Avg_nwcaf[['current_market_value']].plot(kind='hist', bins= 10)"
   ]
  },
  {
   "cell_type": "code",
   "execution_count": 251,
   "metadata": {},
   "outputs": [
    {
     "data": {
      "text/plain": [
       "<matplotlib.axes._subplots.AxesSubplot at 0x1a2593c2e8>"
      ]
     },
     "execution_count": 251,
     "metadata": {},
     "output_type": "execute_result"
    },
    {
     "data": {
      "image/png": "[encoded data removed]",
      "text/plain": [
       "<matplotlib.figure.Figure at 0x1a2521e2e8>"
      ]
     },
     "metadata": {},
     "output_type": "display_data"
    }
   ],
   "source": [
    "df_allc[['current_market_value']].plot(kind='hist', bins=10)"
   ]
  },
  {
   "cell_type": "code",
   "execution_count": 252,
   "metadata": {},
   "outputs": [
    {
     "data": {
      "text/plain": [
       "array([False], dtype=bool)"
      ]
     },
     "execution_count": 252,
     "metadata": {},
     "output_type": "execute_result"
    }
   ],
   "source": [
    "from sklearn.neighbors import KNeighborsClassifier\n",
    "neighbors = KNeighborsClassifier(n_neighbors=5)\n",
    "X = Avg[['current_market_value', 'binned_values']]\n",
    "Y = Avg.wc_africa\n",
    "neighbors.fit(X,Y)\n",
    "\n",
    "## Predict whether player is born in w africa if he is valued at 4 million and in the rating bin of 32 (rated highly).\n",
    "neighbors.predict([[4000000, 32]])"
   ]
  },
  {
   "cell_type": "code",
   "execution_count": 253,
   "metadata": {},
   "outputs": [
    {
     "data": {
      "image/png": "[encoded data removed]",
      "text/plain": [
       "<matplotlib.figure.Figure at 0x1a2591b358>"
      ]
     },
     "metadata": {},
     "output_type": "display_data"
    }
   ],
   "source": [
    "# Our data. Converting from data frames to arrays for the mesh.\n",
    "X = np.array(X)\n",
    "Y = np.array(Y)\n",
    "\n",
    "# Mesh size.\n",
    "h = 20\n",
    "\n",
    "# Plot the decision boundary. We assign a color to each point in the mesh.\n",
    "x_min = X[:, 0].min() - .5\n",
    "x_max = X[:, 0].max() + .5\n",
    "y_min = X[:, 1].min() - .5\n",
    "y_max = X[:, 1].max() + .5\n",
    "xx, yy = np.meshgrid(\n",
    "    np.arange(x_min, x_max, h),\n",
    "    np.arange(y_min, y_max, h)\n",
    ")\n",
    "Z = neighbors.predict(np.c_[xx.ravel(), yy.ravel()])\n",
    "\n",
    "# Put the result into a color plot.\n",
    "Z = Z.reshape(xx.shape)\n",
    "plt.figure(1, figsize=(6, 4))\n",
    "plt.set_cmap(plt.cm.Paired)\n",
    "plt.pcolormesh(xx, yy, Z)\n",
    "\n",
    "# Add the training points to the plot.\n",
    "plt.scatter(X[:, 0], X[:, 1], c=Y)\n",
    "plt.xlabel('Market Value')\n",
    "plt.ylabel('Bins')\n",
    "plt.title('Mesh visualization')\n",
    "\n",
    "plt.xlim(xx.min(), xx.max())\n",
    "plt.ylim(yy.min(), yy.max())\n",
    "\n",
    "plt.show()"
   ]
  },
  {
   "cell_type": "code",
   "execution_count": 256,
   "metadata": {},
   "outputs": [
    {
     "data": {
      "image/png": "[encoded data removed]",
      "text/plain": [
       "<matplotlib.figure.Figure at 0x1a1c1e1358>"
      ]
     },
     "metadata": {},
     "output_type": "display_data"
    }
   ],
   "source": [
    "#now try with top team data\n",
    "plt.scatter(\n",
    "    df_allc[df_allc['top_team'] == 0].Rating,\n",
    "    df_allc[df_allc['top_team'] == 0].current_market_value,\n",
    "    color='red'\n",
    ")\n",
    "plt.scatter(\n",
    "    df_allc[df_allc['top_team'] == 1].Rating,\n",
    "   df_allc[df_allc['top_team'] == 1].current_market_value,\n",
    "    color='blue'\n",
    ")\n",
    "plt.legend(['Not top team', 'Top Team'])\n",
    "plt.title('Top Team Players')\n",
    "plt.xlabel('Rating')\n",
    "plt.ylabel('Current Market Value')\n",
    "plt.show()"
   ]
  },
  {
   "cell_type": "code",
   "execution_count": 257,
   "metadata": {
    "collapsed": true
   },
   "outputs": [],
   "source": [
    "Avg_tt=df_allc.groupby(['binned_values','top_team'], as_index=False)['current_market_value'].mean()"
   ]
  },
  {
   "cell_type": "code",
   "execution_count": 259,
   "metadata": {},
   "outputs": [
    {
     "data": {
      "image/png": "[encoded data removed]",
      "text/plain": [
       "<matplotlib.figure.Figure at 0x1a1c1e8a90>"
      ]
     },
     "metadata": {},
     "output_type": "display_data"
    }
   ],
   "source": [
    "plt.scatter(\n",
    "    Avg_tt[Avg_tt['top_team'] == 1].binned_values,\n",
    "    Avg_tt[Avg_tt['top_team'] == 1].current_market_value,\n",
    "    color='blue'\n",
    ")\n",
    "plt.scatter(\n",
    "    Avg_tt[Avg_tt['top_team'] == 0].binned_values,\n",
    "   Avg_tt[Avg_tt['top_team'] == 0].current_market_value,\n",
    "    color='red'\n",
    ")\n",
    "plt.legend(['Top Team', 'Not Top Team'])\n",
    "plt.title('Top Team Players')\n",
    "plt.xlabel('Rating binned values 33 bins of rating')\n",
    "plt.ylabel('Current Market Value')\n",
    "plt.show()"
   ]
  },
  {
   "cell_type": "code",
   "execution_count": null,
   "metadata": {
    "collapsed": true
   },
   "outputs": [],
   "source": []
  },
  {
   "cell_type": "code",
   "execution_count": 262,
   "metadata": {},
   "outputs": [
    {
     "data": {
      "text/plain": [
       "array([0])"
      ]
     },
     "execution_count": 262,
     "metadata": {},
     "output_type": "execute_result"
    }
   ],
   "source": [
    "from sklearn.neighbors import KNeighborsClassifier\n",
    "neighbors = KNeighborsClassifier(n_neighbors=5)\n",
    "X = Avg_tt[['current_market_value', 'binned_values']]\n",
    "Y = Avg_tt.top_team\n",
    "neighbors.fit(X,Y)\n",
    "\n",
    "## Predict whether player is from a top team if he is valued at 4 million and in the rating bin of 32 (rated highly).\n",
    "neighbors.predict([[4000000, 32]])"
   ]
  },
  {
   "cell_type": "code",
   "execution_count": 265,
   "metadata": {},
   "outputs": [
    {
     "data": {
      "image/png": "[encoded data removed]",
      "text/plain": [
       "<matplotlib.figure.Figure at 0x1a1b0597b8>"
      ]
     },
     "metadata": {},
     "output_type": "display_data"
    }
   ],
   "source": [
    "# Our data. Converting from data frames to arrays for the mesh.\n",
    "X = np.array(X)\n",
    "Y = np.array(Y)\n",
    "\n",
    "# Mesh size.\n",
    "h = 10\n",
    "\n",
    "# Plot the decision boundary. We assign a color to each point in the mesh.\n",
    "x_min = X[:, 0].min() - .5\n",
    "x_max = X[:, 0].max() + .5\n",
    "y_min = X[:, 1].min() - .5\n",
    "y_max = X[:, 1].max() + .5\n",
    "xx, yy = np.meshgrid(\n",
    "    np.arange(x_min, x_max, h),\n",
    "    np.arange(y_min, y_max, h)\n",
    ")\n",
    "Z = neighbors.predict(np.c_[xx.ravel(), yy.ravel()])\n",
    "\n",
    "# Put the result into a color plot.\n",
    "Z = Z.reshape(xx.shape)\n",
    "plt.figure(1, figsize=(6, 4))\n",
    "plt.set_cmap(plt.cm.Paired)\n",
    "plt.pcolormesh(xx, yy, Z)\n",
    "\n",
    "# Add the training points to the plot.\n",
    "plt.scatter(X[:, 0], X[:, 1], c=Y)\n",
    "plt.xlabel('Market Value')\n",
    "plt.ylabel('Bins')\n",
    "plt.title('Mesh visualization')\n",
    "\n",
    "plt.xlim(xx.min(), xx.max())\n",
    "plt.ylim(yy.min(), yy.max())\n",
    "\n",
    "plt.show()"
   ]
  },
  {
   "cell_type": "code",
   "execution_count": null,
   "metadata": {
    "collapsed": true
   },
   "outputs": [],
   "source": []
  }
 ],
 "metadata": {
  "kernelspec": {
   "display_name": "Python 3",
   "language": "python",
   "name": "python3"
  },
  "language_info": {
   "codemirror_mode": {
    "name": "ipython",
    "version": 3
   },
   "file_extension": ".py",
   "mimetype": "text/x-python",
   "name": "python",
   "nbconvert_exporter": "python",
   "pygments_lexer": "ipython3",
   "version": "3.6.3"
  }
 },
 "nbformat": 4,
 "nbformat_minor": 2
}
